{
  "nbformat": 4,
  "nbformat_minor": 0,
  "metadata": {
    "colab": {
      "provenance": []
    },
    "kernelspec": {
      "name": "python3",
      "display_name": "Python 3"
    },
    "language_info": {
      "name": "python"
    }
  },
  "cells": [
    {
      "cell_type": "code",
      "execution_count": null,
      "metadata": {
        "id": "4H4EO9j6rP0H"
      },
      "outputs": [],
      "source": []
    },
    {
      "cell_type": "markdown",
      "source": [
        "#reverse a string"
      ],
      "metadata": {
        "id": "wSEpV-wlMJeG"
      }
    },
    {
      "cell_type": "code",
      "source": [
        "original_string = input(\"Enter a string: \")\n",
        "reversed_string = ''.join(reversed(original_string))\n",
        "print(\"Original String:\", original_string)\n",
        "print(\"Reversed String:\", reversed_string)\n"
      ],
      "metadata": {
        "colab": {
          "base_uri": "https://localhost:8080/"
        },
        "id": "ZpggLEfeMQp4",
        "outputId": "23653708-98f3-4b67-f6f4-511989f9d027"
      },
      "execution_count": null,
      "outputs": [
        {
          "output_type": "stream",
          "name": "stdout",
          "text": [
            "Enter a string: how\n",
            "Original String: how\n",
            "Reversed String: woh\n"
          ]
        }
      ]
    },
    {
      "cell_type": "markdown",
      "source": [
        "#Check if a string is a palindrome."
      ],
      "metadata": {
        "id": "C4UbzQayPR-g"
      }
    },
    {
      "cell_type": "code",
      "source": [
        "str=input(\"enter a string:\")\n",
        "if str==str[::-1]:\n",
        "    print(\"palindrome\")\n",
        "else:\n",
        "    print(\"not palindrome\")"
      ],
      "metadata": {
        "colab": {
          "base_uri": "https://localhost:8080/"
        },
        "id": "6eUaYzLyPWDD",
        "outputId": "f835d0a8-3b67-4156-c79c-5258c511f57b"
      },
      "execution_count": null,
      "outputs": [
        {
          "output_type": "stream",
          "name": "stdout",
          "text": [
            "enter a string:mayam\n",
            "palindrome\n"
          ]
        }
      ]
    },
    {
      "cell_type": "markdown",
      "source": [
        "#Count occurrences of each character in a string."
      ],
      "metadata": {
        "id": "37IglXttW8Bq"
      }
    },
    {
      "cell_type": "code",
      "source": [
        "word=input(\"enter a string:\")\n",
        "count={}\n",
        "for i in word:\n",
        "    if i in count:\n",
        "        count[i]+=1\n",
        "    else:\n",
        "        count[i]=1\n",
        "print(count)"
      ],
      "metadata": {
        "colab": {
          "base_uri": "https://localhost:8080/"
        },
        "id": "mlY57UxrXBMs",
        "outputId": "3934843c-f341-4058-c9a0-4343ebcfb85d"
      },
      "execution_count": null,
      "outputs": [
        {
          "output_type": "stream",
          "name": "stdout",
          "text": [
            "enter a string:how are you\n",
            "{'h': 1, 'o': 2, 'w': 1, ' ': 2, 'a': 1, 'r': 1, 'e': 1, 'y': 1, 'u': 1}\n"
          ]
        }
      ]
    },
    {
      "cell_type": "markdown",
      "source": [
        "#Find the largest element in an array."
      ],
      "metadata": {
        "id": "FrcvrgbrbaWK"
      }
    },
    {
      "cell_type": "code",
      "source": [
        "arr=[2,22,56,69,96]\n",
        "max=arr[0]\n",
        "for i in arr:\n",
        "    if i>max:\n",
        "        max=i\n",
        "print(max)"
      ],
      "metadata": {
        "colab": {
          "base_uri": "https://localhost:8080/"
        },
        "id": "IqMJze-Ybb_d",
        "outputId": "2072a673-8bd2-427c-d603-b9d70f5cabb4"
      },
      "execution_count": null,
      "outputs": [
        {
          "output_type": "stream",
          "name": "stdout",
          "text": [
            "96\n"
          ]
        }
      ]
    },
    {
      "cell_type": "markdown",
      "source": [
        "#Find the missing number in a sequence."
      ],
      "metadata": {
        "id": "CwcZTEZObwXQ"
      }
    },
    {
      "cell_type": "code",
      "source": [
        "num=[1,2,3,4,6,7,8,9,10]\n",
        "for i in range(1,11):\n",
        "    if i not in num:\n",
        "        print(i)"
      ],
      "metadata": {
        "colab": {
          "base_uri": "https://localhost:8080/"
        },
        "id": "M3N105Rib1uP",
        "outputId": "f95ac71e-fd89-435e-bfd4-dc22609b7249"
      },
      "execution_count": null,
      "outputs": [
        {
          "output_type": "stream",
          "name": "stdout",
          "text": [
            "5\n"
          ]
        }
      ]
    },
    {
      "cell_type": "markdown",
      "source": [
        "#Find all pairs in an array that sum up to a specific target."
      ],
      "metadata": {
        "id": "VJecvSEmcGDX"
      }
    },
    {
      "cell_type": "code",
      "source": [
        "a=[1,4,2,5,-3,9,8]\n",
        "tar=6\n",
        "for i in range(len(a)):\n",
        "    for j in range(i+1,len(a)):\n",
        "        if a[i]+a[j]==tar:\n",
        "            print(a[i],a[j])"
      ],
      "metadata": {
        "colab": {
          "base_uri": "https://localhost:8080/"
        },
        "id": "sh3m7y4LcHxE",
        "outputId": "dd188c32-47da-4d71-f575-96fcd285594d"
      },
      "execution_count": null,
      "outputs": [
        {
          "output_type": "stream",
          "name": "stdout",
          "text": [
            "1 5\n",
            "4 2\n",
            "-3 9\n"
          ]
        }
      ]
    },
    {
      "cell_type": "markdown",
      "source": [
        "#Check if two strings are anagrams."
      ],
      "metadata": {
        "id": "Hh0PoBsHc4xB"
      }
    },
    {
      "cell_type": "code",
      "source": [
        "s1=input(\"enter a string:\")\n",
        "s2=input(\"enter a string:\")\n",
        "if sorted(s1)==sorted(s2):\n",
        "    print(\"anagram\")\n",
        "else:\n",
        "    print(\"not anagram\")"
      ],
      "metadata": {
        "colab": {
          "base_uri": "https://localhost:8080/"
        },
        "id": "_7kwHELJc6WT",
        "outputId": "e3feafb9-3f1b-4de4-c743-a055be07c2a2"
      },
      "execution_count": null,
      "outputs": [
        {
          "output_type": "stream",
          "name": "stdout",
          "text": [
            "enter a string:brother\n",
            "enter a string:sister\n",
            "not anagram\n"
          ]
        }
      ]
    },
    {
      "cell_type": "markdown",
      "source": [
        "#Merge two sorted arrays."
      ],
      "metadata": {
        "id": "VV_pzXs9dPwF"
      }
    },
    {
      "cell_type": "code",
      "source": [
        "s1=[1,2,3,4,5]\n",
        "s2=[6,7,8,9,10]\n",
        "s3=s1+s2\n",
        "print(sorted(s3))"
      ],
      "metadata": {
        "colab": {
          "base_uri": "https://localhost:8080/"
        },
        "id": "u9h9ZbMtdRGQ",
        "outputId": "e4def9b0-41e1-40d6-8e58-04f774824225"
      },
      "execution_count": null,
      "outputs": [
        {
          "output_type": "stream",
          "name": "stdout",
          "text": [
            "[1, 2, 3, 4, 5, 6, 7, 8, 9, 10]\n"
          ]
        }
      ]
    },
    {
      "cell_type": "markdown",
      "source": [],
      "metadata": {
        "id": "MLYbW-CIdeM1"
      }
    },
    {
      "cell_type": "markdown",
      "source": [
        "#Implement binary search."
      ],
      "metadata": {
        "id": "08ctecCCdf2P"
      }
    },
    {
      "cell_type": "code",
      "source": [
        "ori=[3,77,94,567,902]\n",
        "tar=567\n",
        "for i in range(len(ori)):\n",
        "    if ori[i]==tar:\n",
        "        print(i)"
      ],
      "metadata": {
        "colab": {
          "base_uri": "https://localhost:8080/"
        },
        "id": "xNX3CI1PdjwW",
        "outputId": "354a7642-8a3b-4db3-ccda-3c672adbba6b"
      },
      "execution_count": null,
      "outputs": [
        {
          "output_type": "stream",
          "name": "stdout",
          "text": [
            "3\n"
          ]
        }
      ]
    },
    {
      "cell_type": "code",
      "source": [
        "arr = [1, 3, 5, 7, 9, 11, 13]\n",
        "target = 7\n",
        "low = 0\n",
        "high = len(arr) - 1\n",
        "found = False\n",
        "while low <= high:\n",
        "    mid = (low + high) // 2\n",
        "    if arr[mid] == target:\n",
        "        print(f\"Target {target} found at index {mid}\")\n",
        "        found = True\n",
        "        break\n",
        "    elif arr[mid] < target:\n",
        "        low = mid + 1\n",
        "    else:\n",
        "        high = mid - 1\n",
        "if not found:\n",
        "    print(f\"Target {target} not found in the array.\")\n"
      ],
      "metadata": {
        "colab": {
          "base_uri": "https://localhost:8080/"
        },
        "id": "7AJk7bmueKF2",
        "outputId": "c8248e3f-3868-4b20-d629-fc900f049863"
      },
      "execution_count": null,
      "outputs": [
        {
          "output_type": "stream",
          "name": "stdout",
          "text": [
            "Target 7 found at index 3\n"
          ]
        }
      ]
    },
    {
      "cell_type": "markdown",
      "source": [
        "#Sort a list of integers using quicksort."
      ],
      "metadata": {
        "id": "YcjTfKckvMAO"
      }
    },
    {
      "cell_type": "code",
      "source": [
        "def quicksort(arr):\n",
        "    if len(arr) <= 1:\n",
        "        return arr\n",
        "    pivot = arr[-1]\n",
        "    left = [x for x in arr[:-1] if x <= pivot]\n",
        "    right = [x for x in arr[:-1] if x > pivot]\n",
        "    return quicksort(left) + [pivot] + quicksort(right)\n",
        "nums = [10, 7, 8, 9, 1, 5]\n",
        "sorted_nums = quicksort(nums)\n",
        "print(\"Original list:\", nums)\n",
        "print(\"Sorted list:\", sorted_nums)"
      ],
      "metadata": {
        "colab": {
          "base_uri": "https://localhost:8080/"
        },
        "id": "FqonpXq7vScf",
        "outputId": "6b1d9112-f1c1-4742-d0ee-ec5e58b7d2c7"
      },
      "execution_count": null,
      "outputs": [
        {
          "output_type": "stream",
          "name": "stdout",
          "text": [
            "Original list: [10, 7, 8, 9, 1, 5]\n",
            "Sorted list: [1, 5, 7, 8, 9, 10]\n"
          ]
        }
      ]
    },
    {
      "cell_type": "markdown",
      "source": [
        "#Find the intersection of two arrays."
      ],
      "metadata": {
        "id": "XpuHr-xOwUih"
      }
    },
    {
      "cell_type": "code",
      "source": [
        "arr1 = [1, 2, 2, 3, 4]\n",
        "arr2 = [2, 2, 4, 6]\n",
        "intersection = []\n",
        "counts = {}\n",
        "for num in arr1:\n",
        "    counts[num] = counts.get(num, 0) + 1\n",
        "for num in arr2:\n",
        "    if num in counts and counts[num] > 0:\n",
        "        intersection.append(num)\n",
        "        counts[num] -= 1\n",
        "print(\"Intersection:\", intersection)"
      ],
      "metadata": {
        "colab": {
          "base_uri": "https://localhost:8080/"
        },
        "id": "5IBJgceswen4",
        "outputId": "5c09f7d4-0ede-4e71-e02f-49f7202ba28a"
      },
      "execution_count": null,
      "outputs": [
        {
          "output_type": "stream",
          "name": "stdout",
          "text": [
            "Intersection: [2, 2, 4]\n"
          ]
        }
      ]
    },
    {
      "cell_type": "markdown",
      "source": [
        "#Rotate an array by k positions."
      ],
      "metadata": {
        "id": "y3nW-U8vw0_o"
      }
    },
    {
      "cell_type": "code",
      "source": [
        "arr = [1, 2, 3, 4, 5, 6, 7]\n",
        "k = 3\n",
        "k = k % len(arr)\n",
        "rotated_arr = arr[-k:] + arr[:-k]\n",
        "print(\"Original array:\", arr)\n",
        "print(\"Array after rotating by\", k, \"positions:\", rotated_arr)"
      ],
      "metadata": {
        "colab": {
          "base_uri": "https://localhost:8080/"
        },
        "id": "7z8ORh3wx2RQ",
        "outputId": "4686bcfe-5077-4298-f43f-4ef0e0a63728"
      },
      "execution_count": null,
      "outputs": [
        {
          "output_type": "stream",
          "name": "stdout",
          "text": [
            "Original array: [1, 2, 3, 4, 5, 6, 7]\n",
            "Array after rotating by 3 positions: [5, 6, 7, 1, 2, 3, 4]\n"
          ]
        }
      ]
    },
    {
      "cell_type": "markdown",
      "source": [
        "#Find the first non-repeating character in a string."
      ],
      "metadata": {
        "id": "EF9lSQBLyRby"
      }
    },
    {
      "cell_type": "code",
      "source": [
        "def first_non_repeating(s):\n",
        "    char_count = {}\n",
        "    for char in s:\n",
        "        char_count[char] = char_count.get(char, 0) + 1\n",
        "    for char in s:\n",
        "        if char_count[char] == 1:\n",
        "            return char\n",
        "    return None\n",
        "\n",
        "s = \"swiss\"\n",
        "result = first_non_repeating(s)\n",
        "if result:\n",
        "    print(\"First non-repeating character:\", result)\n",
        "else:\n",
        "    print(\"No non-repeating character found.\")"
      ],
      "metadata": {
        "colab": {
          "base_uri": "https://localhost:8080/"
        },
        "id": "b316pMMlyW1h",
        "outputId": "fed0260c-289a-49be-b372-d54bc490d2d2"
      },
      "execution_count": null,
      "outputs": [
        {
          "output_type": "stream",
          "name": "stdout",
          "text": [
            "First non-repeating character: w\n"
          ]
        }
      ]
    },
    {
      "cell_type": "markdown",
      "source": [
        "#Implement a stack using Python lists."
      ],
      "metadata": {
        "id": "iIBZWf7WKyje"
      }
    },
    {
      "cell_type": "code",
      "source": [
        "class Stack:\n",
        "    def __init__(self):\n",
        "        self.stack = []\n",
        "    def is_empty(self):\n",
        "       return len(self.stack) == 0\n",
        "    def push(self, item):\n",
        "        self.stack.append(item)\n",
        "    def pop(self):\n",
        "        if self.is_empty():\n",
        "            print(\"Stack is empty. Cannot pop.\")\n",
        "            return None\n",
        "        return self.stack.pop()\n",
        "    def peek(self):\n",
        "        if self.is_empty():\n",
        "            print(\"Stack is empty.\")\n",
        "            return None\n",
        "        return self.stack[-1]\n",
        "    def size(self):\n",
        "        return len(self.stack)\n",
        "stack = Stack()\n",
        "stack.push(10)\n",
        "stack.push(20)\n",
        "stack.push(30)\n",
        "print(\"Top element:\", stack.peek())\n",
        "print(\"Stack size:\", stack.size())\n",
        "print(\"Popped element:\", stack.pop())\n",
        "print(\"Stack size after pop:\", stack.size())\n",
        "print(\"Is stack empty?\", stack.is_empty())\n"
      ],
      "metadata": {
        "colab": {
          "base_uri": "https://localhost:8080/"
        },
        "id": "kzfbo8ckK_ek",
        "outputId": "46990a96-e5c3-4d1e-d231-6d0a451a8187"
      },
      "execution_count": null,
      "outputs": [
        {
          "output_type": "stream",
          "name": "stdout",
          "text": [
            "Top element: 30\n",
            "Stack size: 3\n",
            "Popped element: 30\n",
            "Stack size after pop: 2\n",
            "Is stack empty? False\n"
          ]
        }
      ]
    },
    {
      "cell_type": "markdown",
      "source": [
        "#Implement a queue using two stacks."
      ],
      "metadata": {
        "id": "yoWLkT95L1Co"
      }
    },
    {
      "cell_type": "code",
      "source": [
        "class QueueUsingTwoStacks:\n",
        "    def __init__(self):\n",
        "        self.in_stack = []\n",
        "        self.out_stack = []\n",
        "    def is_empty(self):\n",
        "        return len(self.in_stack) == 0 and len(self.out_stack) == 0\n",
        "    def enqueue(self, item):\n",
        "        self.in_stack.append(item)\n",
        "    def dequeue(self):\n",
        "        if not self.out_stack:\n",
        "            while self.in_stack:\n",
        "                self.out_stack.append(self.in_stack.pop())\n",
        "        if self.is_empty():\n",
        "            print(\"Queue is empty.\")\n",
        "            return None\n",
        "        return self.out_stack.pop()\n",
        "    def peek(self):\n",
        "        if not self.out_stack:\n",
        "            while self.in_stack:\n",
        "                self.out_stack.append(self.in_stack.pop())\n",
        "        if self.is_empty():\n",
        "            print(\"Queue is empty.\")\n",
        "            return None\n",
        "        return self.out_stack[-1]\n",
        "    def size(self):\n",
        "        return len(self.in_stack) + len(self.out_stack)\n",
        "queue = QueueUsingTwoStacks()\n",
        "queue.enqueue(10)\n",
        "queue.enqueue(20)\n",
        "queue.enqueue(30)\n",
        "print(\"Queue size:\", queue.size())\n",
        "print(\"Front element:\", queue.peek())\n",
        "print(\"Dequeued:\", queue.dequeue())\n",
        "print(\"Queue size after dequeue:\", queue.size())\n",
        "print(\"Dequeued:\", queue.dequeue())\n",
        "print(\"Queue size after dequeue:\", queue.size())\n",
        "print(\"Is queue empty?\", queue.is_empty())\n",
        "print(\"Dequeued:\", queue.dequeue())\n",
        "print(\"Queue size after dequeue:\", queue.size())\n",
        "print(\"Is queue empty?\", queue.is_empty())"
      ],
      "metadata": {
        "colab": {
          "base_uri": "https://localhost:8080/"
        },
        "id": "lav5dhhmL6KQ",
        "outputId": "d82fac5a-95cf-410f-c2be-7b1dfe442931"
      },
      "execution_count": null,
      "outputs": [
        {
          "output_type": "stream",
          "name": "stdout",
          "text": [
            "Queue size: 3\n",
            "Front element: 10\n",
            "Dequeued: 10\n",
            "Queue size after dequeue: 2\n",
            "Dequeued: 20\n",
            "Queue size after dequeue: 1\n",
            "Is queue empty? False\n",
            "Dequeued: 30\n",
            "Queue size after dequeue: 0\n",
            "Is queue empty? True\n"
          ]
        }
      ]
    },
    {
      "cell_type": "markdown",
      "source": [
        "#Find the most common element in an array."
      ],
      "metadata": {
        "id": "O97uBOIVP8eF"
      }
    },
    {
      "cell_type": "markdown",
      "source": [
        "using counter"
      ],
      "metadata": {
        "id": "N0xre2vCRf_K"
      }
    },
    {
      "cell_type": "code",
      "source": [
        "from collections import Counter\n",
        "arr = [1, 3, 2, 3, 4, 3, 2, 1, 2, 2]\n",
        "counter = Counter(arr)\n",
        "most_common_element, frequency = counter.most_common(1)[0]\n",
        "print(f\"The most common element is {most_common_element} with a frequency of {frequency}.\")"
      ],
      "metadata": {
        "colab": {
          "base_uri": "https://localhost:8080/"
        },
        "id": "Zemodrt3QADk",
        "outputId": "cec5b79b-23c9-4d0b-eff8-0918da076083"
      },
      "execution_count": null,
      "outputs": [
        {
          "output_type": "stream",
          "name": "stdout",
          "text": [
            "The most common element is 2 with a frequency of 4.\n"
          ]
        }
      ]
    },
    {
      "cell_type": "markdown",
      "source": [
        "without using counter"
      ],
      "metadata": {
        "id": "PdYZdE01SI4I"
      }
    },
    {
      "cell_type": "code",
      "source": [
        "arr = [1, 3, 2, 3, 4, 3, 2, 1, 2, 2]\n",
        "frequency = {}\n",
        "for num in arr:\n",
        "    if num in frequency:\n",
        "        frequency[num] += 1\n",
        "    else:\n",
        "        frequency[num] = 1\n",
        "most_common_element = None\n",
        "max_count = 0\n",
        "for num, count in frequency.items():\n",
        "    if count > max_count:\n",
        "        most_common_element = num\n",
        "        max_count = count\n",
        "print(f\"The most common element is {most_common_element} with a frequency of {max_count}.\")"
      ],
      "metadata": {
        "colab": {
          "base_uri": "https://localhost:8080/"
        },
        "id": "T16eRpGmSMPn",
        "outputId": "903ee53a-3f56-4fd3-dc22-d201a8d6368e"
      },
      "execution_count": null,
      "outputs": [
        {
          "output_type": "stream",
          "name": "stdout",
          "text": [
            "The most common element is 2 with a frequency of 4.\n"
          ]
        }
      ]
    },
    {
      "cell_type": "markdown",
      "source": [
        "#Calculate the nth Fibonacci number using recursion."
      ],
      "metadata": {
        "id": "AvKqo3W4TGTu"
      }
    },
    {
      "cell_type": "code",
      "source": [
        "def fibonacci(n):\n",
        "    if n <= 0:\n",
        "        return 0\n",
        "    elif n == 1:\n",
        "        return 1\n",
        "    else:\n",
        "        return fibonacci(n - 1) + fibonacci(n - 2)\n",
        "n = 6\n",
        "result = fibonacci(n)\n",
        "print(f\"The {n}th Fibonacci number is {result}.\")"
      ],
      "metadata": {
        "colab": {
          "base_uri": "https://localhost:8080/"
        },
        "id": "WAi4HgquTMeL",
        "outputId": "5fbc8622-7221-48e0-da45-0a9203867cbc"
      },
      "execution_count": null,
      "outputs": [
        {
          "output_type": "stream",
          "name": "stdout",
          "text": [
            "The 6th Fibonacci number is 8.\n"
          ]
        }
      ]
    },
    {
      "cell_type": "markdown",
      "source": [
        "#Calculate the nth Fibonacci number using dynamic programming."
      ],
      "metadata": {
        "id": "5rKF_ee7U273"
      }
    },
    {
      "cell_type": "code",
      "source": [
        "def fibonacci_dp(n):\n",
        "    if n <= 0:\n",
        "        return 0\n",
        "    elif n == 1:\n",
        "        return 1\n",
        "    dp = [0] * (n + 1)\n",
        "    dp[0] = 0\n",
        "    dp[1] = 1\n",
        "    for i in range(2, n + 1):\n",
        "        dp[i] = dp[i - 1] + dp[i - 2]\n",
        "    return dp[n]\n",
        "n = 10\n",
        "result = fibonacci_dp(n)\n",
        "print(f\"The {n}th Fibonacci number is: {result}\")"
      ],
      "metadata": {
        "colab": {
          "base_uri": "https://localhost:8080/"
        },
        "id": "oCU_HrJDU9xt",
        "outputId": "44c30d5b-cb47-4017-ad04-5ba8ff644d02"
      },
      "execution_count": null,
      "outputs": [
        {
          "output_type": "stream",
          "name": "stdout",
          "text": [
            "The 10th Fibonacci number is: 55\n"
          ]
        }
      ]
    },
    {
      "cell_type": "markdown",
      "source": [
        "#Find the minimum number of coins needed to make a specific amount."
      ],
      "metadata": {
        "id": "JzNGbyP2V2wx"
      }
    },
    {
      "cell_type": "code",
      "source": [
        "def fibonacci_dp(n):\n",
        "    if n <= 0:\n",
        "        return 0\n",
        "    elif n == 1:\n",
        "        return 1\n",
        "    dp = [0] * (n + 1)\n",
        "    dp[0] = 0\n",
        "    dp[1] = 1\n",
        "    for i in range(2, n + 1):\n",
        "        dp[i] = dp[i - 1] + dp[i - 2]\n",
        "    return dp[n]\n",
        "n = 10\n",
        "result = fibonacci_dp(n)\n",
        "print(f\"The {n}th Fibonacci number is: {result}\")"
      ],
      "metadata": {
        "colab": {
          "base_uri": "https://localhost:8080/"
        },
        "id": "wMRm0e4zXaqQ",
        "outputId": "69726376-477c-4a72-ca32-3639b940a8f1"
      },
      "execution_count": null,
      "outputs": [
        {
          "output_type": "stream",
          "name": "stdout",
          "text": [
            "The 10th Fibonacci number is: 55\n"
          ]
        }
      ]
    },
    {
      "cell_type": "markdown",
      "source": [
        "#Implement a binary tree."
      ],
      "metadata": {
        "id": "NoJKXw23aX7W"
      }
    },
    {
      "cell_type": "code",
      "source": [
        "class Node:\n",
        "    def __init__(self, value):\n",
        "        self.value = value\n",
        "        self.left = None\n",
        "        self.right = None\n",
        "class BinaryTree:\n",
        "    def __init__(self):\n",
        "        self.root = None\n",
        "    def insert(self, value):\n",
        "        if self.root is None:\n",
        "            self.root = Node(value)\n",
        "        else:\n",
        "            self._insert(self.root, value)\n",
        "    def _insert(self, current, value):\n",
        "        if value < current.value:\n",
        "            if current.left is None:\n",
        "                current.left = Node(value)\n",
        "            else:\n",
        "                self._insert(current.left, value)\n",
        "        elif value > current.value:\n",
        "            if current.right is None:\n",
        "                current.right = Node(value)\n",
        "            else:\n",
        "                self._insert(current.right, value)\n",
        "    def search(self, value):\n",
        "        return self._search(self.root, value)\n",
        "    def _search(self, current, value):\n",
        "        if current is None:\n",
        "            return False\n",
        "        if current.value == value:\n",
        "            return True\n",
        "        elif value < current.value:\n",
        "            return self._search(current.left, value)\n",
        "        else:\n",
        "            return self._search(current.right, value)\n",
        "    def inorder_traversal(self):\n",
        "        result = []\n",
        "        self._inorder(self.root, result)\n",
        "        return result\n",
        "    def _inorder(self, current, result):\n",
        "        if current is not None:\n",
        "            self._inorder(current.left, result)\n",
        "            result.append(current.value)\n",
        "            self._inorder(current.right, result)\n",
        "    def preorder_traversal(self):\n",
        "        result = []\n",
        "        self._preorder(self.root, result)\n",
        "        return result\n",
        "    def _preorder(self, current, result):\n",
        "        if current is not None:\n",
        "            result.append(current.value)\n",
        "            self._preorder(current.left, result)\n",
        "            self._preorder(current.right, result)\n",
        "    def postorder_traversal(self):\n",
        "        result = []\n",
        "        self._postorder(self.root, result)\n",
        "        return result\n",
        "    def _postorder(self, current, result):\n",
        "        if current is not None:\n",
        "            self._postorder(current.left, result)\n",
        "            self._postorder(current.right, result)\n",
        "            result.append(current.value)\n",
        "tree = BinaryTree()\n",
        "tree.insert(10)\n",
        "tree.insert(5)\n",
        "tree.insert(15)\n",
        "tree.insert(3)\n",
        "tree.insert(7)\n",
        "tree.insert(13)\n",
        "tree.insert(17)\n",
        "print(\"Search for 7:\", tree.search(7))\n",
        "print(\"Search for 20:\", tree.search(20))\n",
        "print(\"In-order Traversal:\", tree.inorder_traversal())\n",
        "print(\"Pre-order Traversal:\", tree.preorder_traversal())\n",
        "print(\"Post-order Traversal:\", tree.postorder_traversal())"
      ],
      "metadata": {
        "colab": {
          "base_uri": "https://localhost:8080/"
        },
        "id": "AtiNgNy3acHf",
        "outputId": "ab4dae19-9b43-41d5-ed03-2cf4a22b26f5"
      },
      "execution_count": null,
      "outputs": [
        {
          "output_type": "stream",
          "name": "stdout",
          "text": [
            "Search for 7: True\n",
            "Search for 20: False\n",
            "In-order Traversal: [3, 5, 7, 10, 13, 15, 17]\n",
            "Pre-order Traversal: [10, 5, 3, 7, 15, 13, 17]\n",
            "Post-order Traversal: [3, 7, 5, 13, 17, 15, 10]\n"
          ]
        }
      ]
    },
    {
      "cell_type": "markdown",
      "source": [
        "#Perform in-order, pre-order, and post-order traversal of a binary tree."
      ],
      "metadata": {
        "id": "AXPUWvaoeg4Q"
      }
    },
    {
      "cell_type": "code",
      "source": [
        "def inorder_traversal(root):\n",
        "    if root is None:\n",
        "        return []\n",
        "    return inorder_traversal(root.left) + [root.value] + inorder_traversal(root.right)\n",
        "def preorder_traversal(root):\n",
        "    if root is None:\n",
        "        return []\n",
        "    return [root.value] + preorder_traversal(root.left) + preorder_traversal(root.right)\n",
        "def postorder_traversal(root):\n",
        "    if root is None:\n",
        "        return []\n",
        "    return postorder_traversal(root.left) + postorder_traversal(root.right) + [root.value]\n",
        "root = Node(10)\n",
        "root.left = Node(5)\n",
        "root.right = Node(15)\n",
        "root.left.left = Node(3)\n",
        "root.left.right = Node(7)\n",
        "root.right.left = Node(13)\n",
        "root.right.right = Node(17)\n",
        "print(\"In-order Traversal:\", inorder_traversal(root))\n",
        "print(\"Pre-order Traversal:\", preorder_traversal(root))\n",
        "print(\"Post-order Traversal:\", postorder_traversal(root))\n"
      ],
      "metadata": {
        "colab": {
          "base_uri": "https://localhost:8080/"
        },
        "id": "7m_vMphIeyxn",
        "outputId": "7aff4eec-957e-4bbd-cf9d-fac450a9d2e0"
      },
      "execution_count": null,
      "outputs": [
        {
          "output_type": "stream",
          "name": "stdout",
          "text": [
            "In-order Traversal: [3, 5, 7, 10, 13, 15, 17]\n",
            "Pre-order Traversal: [10, 5, 3, 7, 15, 13, 17]\n",
            "Post-order Traversal: [3, 7, 5, 13, 17, 15, 10]\n"
          ]
        }
      ]
    },
    {
      "cell_type": "markdown",
      "source": [
        "#Find the height of a binary tree."
      ],
      "metadata": {
        "id": "SOtnRcTAfHjG"
      }
    },
    {
      "cell_type": "code",
      "source": [
        "def height(root):\n",
        "    if root is None:\n",
        "        return 0\n",
        "    left_height = height(root.left)\n",
        "    right_height = height(root.right)\n",
        "    return max(left_height, right_height) + 1\n",
        "    root = Node(10)\n",
        "root.left = Node(5)\n",
        "root.right = Node(15)\n",
        "root.left.left = Node(3)\n",
        "root.left.right = Node(7)\n",
        "root.right.left = Node(13)\n",
        "root.right.right = Node(17)\n",
        "print(\"Height of the binary tree:\", height(root))"
      ],
      "metadata": {
        "colab": {
          "base_uri": "https://localhost:8080/"
        },
        "id": "zki5eQHufeDa",
        "outputId": "ea97a3fb-642d-43a0-f2d6-453fd78f1890"
      },
      "execution_count": null,
      "outputs": [
        {
          "output_type": "stream",
          "name": "stdout",
          "text": [
            "Height of the binary tree: 3\n"
          ]
        }
      ]
    },
    {
      "cell_type": "markdown",
      "source": [
        "#check if the tree is balanced"
      ],
      "metadata": {
        "id": "-73dYqUJf48Q"
      }
    },
    {
      "cell_type": "code",
      "source": [
        "def is_balanced(root):\n",
        "    def check_height(node):\n",
        "        if node is None:\n",
        "            return 0\n",
        "        left_height = check_height(node.left)\n",
        "        right_height = check_height(node.right)\n",
        "        if left_height == -1 or right_height == -1 or abs(left_height - right_height) > 1:\n",
        "            return -1\n",
        "        return 1 + max(left_height, right_height)\n",
        "    return check_height(root) != -1\n",
        "root = Node(10)\n",
        "root.left = Node(5)\n",
        "root.right = Node(15)\n",
        "root.left.left = Node(3)\n",
        "root.left.right = Node(7)\n",
        "root.right.left = Node(12)\n",
        "root.right.right = Node(17)\n",
        "print(\"Is the tree balanced?\", is_balanced(root))"
      ],
      "metadata": {
        "colab": {
          "base_uri": "https://localhost:8080/"
        },
        "id": "SM8v4o_Ni0Ao",
        "outputId": "0e62e808-b670-44c2-929f-750e980715af"
      },
      "execution_count": null,
      "outputs": [
        {
          "output_type": "stream",
          "name": "stdout",
          "text": [
            "Is the tree balanced? True\n"
          ]
        }
      ]
    },
    {
      "cell_type": "markdown",
      "source": [
        "#Convert a binary tree to a doubly linked list."
      ],
      "metadata": {
        "id": "sTCDrT-yjREO"
      }
    },
    {
      "cell_type": "code",
      "source": [
        "def convert_to_dll(root):\n",
        "    def convert(node):\n",
        "        nonlocal prev, head\n",
        "        if not node:\n",
        "            return\n",
        "        convert(node.left)\n",
        "        if prev is None:\n",
        "            head = node\n",
        "        else:\n",
        "            prev.right = node\n",
        "            node.left = prev\n",
        "        prev = node\n",
        "        convert(node.right)\n",
        "    prev = None\n",
        "    head = None\n",
        "    convert(root)\n",
        "    return head\n",
        "def print_dll(head):\n",
        "    current = head\n",
        "    while current:\n",
        "        print(current.value, end=\" <-> \" if current.right else \"\\n\")\n",
        "        current = current.right\n",
        "root=Node(10)\n",
        "root.left = Node(5)\n",
        "root.right = Node(15)\n",
        "root.left.left = Node(3)\n",
        "root.left.right = Node(7)\n",
        "root.right.left = Node(13)\n",
        "root.right.right = Node(17)\n",
        "head = convert_to_dll(root)\n",
        "print(\"Doubly Linked List:\")\n",
        "print_dll(head)"
      ],
      "metadata": {
        "colab": {
          "base_uri": "https://localhost:8080/"
        },
        "id": "7d8YpHfTjm9A",
        "outputId": "ff85fcbb-2dba-48ab-a7e1-17f843f48c99"
      },
      "execution_count": null,
      "outputs": [
        {
          "output_type": "stream",
          "name": "stdout",
          "text": [
            "Doubly Linked List:\n",
            "3 <-> 5 <-> 7 <-> 10 <-> 13 <-> 15 <-> 17\n"
          ]
        }
      ]
    },
    {
      "cell_type": "markdown",
      "source": [
        "#Check if two binary trees are identical."
      ],
      "metadata": {
        "id": "TfCVs5RJkaRH"
      }
    },
    {
      "cell_type": "code",
      "source": [
        "def are_identical(tree1, tree2):\n",
        "    if tree1 is None and tree2 is None:\n",
        "        return True\n",
        "    if tree1 is None or tree2 is None:\n",
        "        return False\n",
        "    return (\n",
        "        tree1.value == tree2.value and\n",
        "        are_identical(tree1.left, tree2.left) and\n",
        "        are_identical(tree1.right, tree2.right)\n",
        "    )\n",
        "tree1 = Node(10)\n",
        "tree1.left = Node(5)\n",
        "tree1.right = Node(15)\n",
        "tree1.left.left = Node(3)\n",
        "tree1.left.right = Node(7)\n",
        "tree1.right.left = Node(13)\n",
        "tree1.right.right = Node(17)\n",
        "tree2 = Node(10)\n",
        "tree2.left = Node(5)\n",
        "tree2.right = Node(15)\n",
        "tree2.left.left = Node(3)\n",
        "tree2.left.right = Node(7)\n",
        "tree2.right.left = Node(13)\n",
        "tree2.right.right = Node(17)\n",
        "tree3 = Node(10)\n",
        "tree3.left = Node(5)\n",
        "tree3.right = Node(15)\n",
        "tree3.left.left = Node(3)\n",
        "print(\"Tree 1 and Tree 2 are identical:\", are_identical(tree1, tree2))\n",
        "print(\"Tree 1 and Tree 3 are identical:\", are_identical(tree1, tree3))"
      ],
      "metadata": {
        "colab": {
          "base_uri": "https://localhost:8080/"
        },
        "id": "HESM8KhJkwTJ",
        "outputId": "1dbe2c83-a9b7-4eac-db1d-c9891c67343b"
      },
      "execution_count": null,
      "outputs": [
        {
          "output_type": "stream",
          "name": "stdout",
          "text": [
            "Tree 1 and Tree 2 are identical: True\n",
            "Tree 1 and Tree 3 are identical: False\n"
          ]
        }
      ]
    },
    {
      "cell_type": "markdown",
      "source": [
        "#"
      ],
      "metadata": {
        "id": "DOyvkAPelVHG"
      }
    },
    {
      "cell_type": "markdown",
      "source": [
        "#Find the diameter of a binary tree."
      ],
      "metadata": {
        "id": "KMcDlZ2_IFXm"
      }
    },
    {
      "cell_type": "code",
      "source": [
        "class Node:\n",
        "    def __init__(self, value):\n",
        "        self.value = value\n",
        "        self.left = None\n",
        "        self.right = None\n",
        "def find_diameter(root):\n",
        "    def diameter(Node):\n",
        "        nonlocal max_diameter\n",
        "        if not Node:\n",
        "            return 0\n",
        "        left_height = diameter(Node.left)\n",
        "        right_height = diameter(Node.right)\n",
        "        max_diameter = max(max_diameter, left_height + right_height)\n",
        "        return 1 + max(left_height, right_height)\n",
        "    max_diameter = 0\n",
        "    diameter(root)\n",
        "    return max_diameter\n",
        "root = Node(10)\n",
        "root.left = Node(5)\n",
        "root.right = Node(15)\n",
        "root.left.left = Node(3)\n",
        "root.left.right = Node(7)\n",
        "root.right.left = Node(13)\n",
        "root.right.right = Node(17)\n",
        "print(\"Diameter of the binary tree:\", find_diameter(root))"
      ],
      "metadata": {
        "colab": {
          "base_uri": "https://localhost:8080/"
        },
        "id": "xmpnGssjIQO6",
        "outputId": "7dbb2a43-bfae-4844-9711-df86aaca2b51"
      },
      "execution_count": null,
      "outputs": [
        {
          "output_type": "stream",
          "name": "stdout",
          "text": [
            "Diameter of the binary tree: 4\n"
          ]
        }
      ]
    },
    {
      "cell_type": "markdown",
      "source": [
        "#Implement a binary search tree (BST)."
      ],
      "metadata": {
        "id": "56V1OnrpNH7G"
      }
    },
    {
      "cell_type": "code",
      "source": [
        "class Node:\n",
        "    def __init__(self, key):\n",
        "        self.key = key\n",
        "        self.left = None\n",
        "        self.right = None\n",
        "class BinarySearchTree:\n",
        "    def __init__(self):\n",
        "        self.root = None\n",
        "    def insert(self, key):\n",
        "        if self.root is None:\n",
        "            self.root = Node(key)\n",
        "        else:\n",
        "            self._insert(self.root, key)\n",
        "    def _insert(self, current_node, key):\n",
        "        if key < current_node.key:\n",
        "            if current_node.left is None:\n",
        "                current_node.left = Node(key)\n",
        "            else:\n",
        "                self._insert(current_node.left, key)\n",
        "        elif key > current_node.key:\n",
        "            if current_node.right is None:\n",
        "                current_node.right = Node(key)\n",
        "            else:\n",
        "                self._insert(current_node.right, key)\n",
        "    def search(self, key):\n",
        "        return self._search(self.root, key)\n",
        "    def _search(self, current_node, key):\n",
        "        if current_node is None:\n",
        "            return False\n",
        "        if current_node.key == key:\n",
        "            return True\n",
        "        elif key < current_node.key:\n",
        "            return self._search(current_node.left, key)\n",
        "        else:\n",
        "            return self._search(current_node.right, key)\n",
        "    def inorder_traversal(self):\n",
        "        result = []\n",
        "        self._inorder_traversal(self.root, result)\n",
        "        return result\n",
        "    def _inorder_traversal(self, current_node, result):\n",
        "        if current_node is not None:\n",
        "            self._inorder_traversal(current_node.left, result)\n",
        "            result.append(current_node.key)\n",
        "            self._inorder_traversal(current_node.right, result)\n",
        "    def delete(self, key):\n",
        "        self.root = self._delete(self.root, key)\n",
        "    def _delete(self, current_node, key):\n",
        "        if current_node is None:\n",
        "            return current_node\n",
        "        if key < current_node.key:\n",
        "            current_node.left = self._delete(current_node.left, key)\n",
        "        elif key > current_node.key:\n",
        "            current_node.right = self._delete(current_node.right, key)\n",
        "        else:\n",
        "            if current_node.left is None:\n",
        "                return current_node.right\n",
        "            elif current_node.right is None:\n",
        "                return current_node.left\n",
        "            min_larger_node = self._find_min(current_node.right)\n",
        "            current_node.key = min_larger_node.key\n",
        "            current_node.right = self._delete(current_node.right, min_larger_node.key)\n",
        "        return current_node\n",
        "    def _find_min(self, current_node):\n",
        "        while current_node.left is not None:\n",
        "            current_node = current_node.left\n",
        "        return current_node\n",
        "bst = BinarySearchTree()\n",
        "values = [50, 30, 20, 40, 70, 60, 80]\n",
        "for value in values:\n",
        "    bst.insert(value)\n",
        "print(\"Inorder Traversal:\", bst.inorder_traversal())\n",
        "print(\"Search 40:\", bst.search(40))\n",
        "print(\"Search 100:\", bst.search(100))\n",
        "bst.delete(50)\n",
        "print(\"Inorder Traversal after deleting 50:\", bst.inorder_traversal())"
      ],
      "metadata": {
        "colab": {
          "base_uri": "https://localhost:8080/"
        },
        "id": "bEKTu2_fNJ1Q",
        "outputId": "3d668f99-533c-4d1c-c028-65f96982d4d5"
      },
      "execution_count": null,
      "outputs": [
        {
          "output_type": "stream",
          "name": "stdout",
          "text": [
            "Inorder Traversal: [20, 30, 40, 50, 60, 70, 80]\n",
            "Search 40: True\n",
            "Search 100: False\n",
            "Inorder Traversal after deleting 50: [20, 30, 40, 60, 70, 80]\n"
          ]
        }
      ]
    },
    {
      "cell_type": "markdown",
      "source": [
        "#Check if binary tree is a BST"
      ],
      "metadata": {
        "id": "cL4WvhtwPo3s"
      }
    },
    {
      "cell_type": "code",
      "source": [
        "def is_bst(node, min_key=float('-inf'), max_key=float('inf')):\n",
        "    if node is None:\n",
        "        return True\n",
        "    if not (min_key < node.key < max_key):\n",
        "        return False\n",
        "    return (is_bst(node.left, min_key, node.key) and\n",
        "            is_bst(node.right, node.key, max_key))\n",
        "root = Node(10)\n",
        "root.left = Node(5)\n",
        "root.right = Node(20)\n",
        "root.left.left = Node(3)\n",
        "root.left.right = Node(7)\n",
        "root.right.left = Node(15)\n",
        "root.right.right = Node(25)\n",
        "print(\"Is BST:\", is_bst(root))\n",
        "root_invalid = Node(10)\n",
        "root_invalid.left = Node(5)\n",
        "root_invalid.right = Node(20)\n",
        "root_invalid.left.right = Node(12)\n",
        "print(\"Is BST:\", is_bst(root_invalid))"
      ],
      "metadata": {
        "colab": {
          "base_uri": "https://localhost:8080/"
        },
        "id": "PHex4sVXPwav",
        "outputId": "af930313-1eb9-44c4-d2b2-7cb9056c10f2"
      },
      "execution_count": null,
      "outputs": [
        {
          "output_type": "stream",
          "name": "stdout",
          "text": [
            "Is BST: True\n",
            "Is BST: False\n"
          ]
        }
      ]
    },
    {
      "cell_type": "markdown",
      "source": [
        "#Find the lowest common ancestor of two nodes in a BST."
      ],
      "metadata": {
        "id": "WOoAsIr6QDWf"
      }
    },
    {
      "cell_type": "code",
      "source": [
        "def find_lca_bst(root, n1, n2):\n",
        "    if root is None:\n",
        "        return None\n",
        "    if n1 < root.key and n2 < root.key:\n",
        "        return find_lca_bst(root.left, n1, n2)\n",
        "    if n1 > root.key and n2 > root.key:\n",
        "        return find_lca_bst(root.right, n1, n2)\n",
        "    return root\n",
        "lca = find_lca_bst(root, 5, 15)\n",
        "if lca:\n",
        "    print(f\"LCA of 5 and 15: {lca.key}\")\n",
        "else:\n",
        "    print(\"LCA not found\")\n",
        "lca = find_lca_bst(root, 5, 35)\n",
        "if lca:\n",
        "    print(f\"LCA of 5 and 35: {lca.key}\")\n",
        "else:\n",
        "    print(\"LCA not found\")"
      ],
      "metadata": {
        "colab": {
          "base_uri": "https://localhost:8080/"
        },
        "id": "dGoirUtLQIas",
        "outputId": "6fec65d4-2812-4cbc-fac0-0cc4c4adc090"
      },
      "execution_count": null,
      "outputs": [
        {
          "output_type": "stream",
          "name": "stdout",
          "text": [
            "LCA of 5 and 15: 10\n",
            "LCA of 5 and 35: 10\n"
          ]
        }
      ]
    },
    {
      "cell_type": "markdown",
      "source": [
        "#implement linkned list"
      ],
      "metadata": {
        "id": "jEmrzHV8RcZj"
      }
    },
    {
      "cell_type": "code",
      "source": [
        "class Node:\n",
        "    def __init__(self, data):\n",
        "        self.data = data\n",
        "        self.next = None\n",
        "class LinkedList:\n",
        "    def __init__(self):\n",
        "        self.head = None\n",
        "    def append(self, data):\n",
        "        new_node = Node(data)\n",
        "        if self.head is None:\n",
        "            self.head = new_node\n",
        "        else:\n",
        "            current = self.head\n",
        "            while current.next:\n",
        "                current = current.next\n",
        "            current.next = new_node\n",
        "    def prepend(self, data):\n",
        "        new_node = Node(data)\n",
        "        new_node.next = self.head\n",
        "        self.head = new_node\n",
        "    def delete(self, data):\n",
        "        if self.head is None:\n",
        "            return\n",
        "        if self.head.data == data:\n",
        "            self.head = self.head.next\n",
        "            return\n",
        "        current = self.head\n",
        "        while current.next and current.next.data != data:\n",
        "            current = current.next\n",
        "        if current.next:\n",
        "            current.next = current.next.next\n",
        "    def search(self, data):\n",
        "        current = self.head\n",
        "        while current:\n",
        "            if current.data == data:\n",
        "                return True\n",
        "            current = current.next\n",
        "        return False\n",
        "    def display(self):\n",
        "        elements = []\n",
        "        current = self.head\n",
        "        while current:\n",
        "            elements.append(current.data)\n",
        "            current = current.next\n",
        "        return elements\n",
        "ll = LinkedList()\n",
        "ll.append(10)\n",
        "ll.append(20)\n",
        "ll.append(30)\n",
        "print(\"Initial list:\", ll.display())\n",
        "ll.prepend(5)\n",
        "print(\"After prepend:\", ll.display())\n",
        "ll.delete(20)\n",
        "print(\"After deleting 20:\", ll.display())\n",
        "print(\"Search 10:\", ll.search(10))\n",
        "print(\"Search 50:\", ll.search(50))"
      ],
      "metadata": {
        "colab": {
          "base_uri": "https://localhost:8080/"
        },
        "id": "KifKIxw3StIw",
        "outputId": "472ed77c-bc98-45f4-d6cc-070aae91279a"
      },
      "execution_count": null,
      "outputs": [
        {
          "output_type": "stream",
          "name": "stdout",
          "text": [
            "Initial list: [10, 20, 30]\n",
            "After prepend: [5, 10, 20, 30]\n",
            "After deleting 20: [5, 10, 30]\n",
            "Search 10: True\n",
            "Search 50: False\n"
          ]
        }
      ]
    },
    {
      "cell_type": "markdown",
      "source": [
        "#Reverse a linked list"
      ],
      "metadata": {
        "id": "HkmMnxgNTHjx"
      }
    },
    {
      "cell_type": "code",
      "source": [
        "def reverse(self):\n",
        "        prev = None\n",
        "        current = self.head\n",
        "        while current:\n",
        "            next_node = current.next\n",
        "            current.next = prev\n",
        "            prev = current\n",
        "            current = next_node\n",
        "        self.head = prev\n",
        "print(\"Original List:\", ll.display())\n",
        "ll.reverse()\n",
        "print(\"Reversed List:\", ll.display())"
      ],
      "metadata": {
        "colab": {
          "base_uri": "https://localhost:8080/"
        },
        "id": "4uAwETU1TN6K",
        "outputId": "41ec38ef-1823-4a18-f346-e678c4638673"
      },
      "execution_count": null,
      "outputs": [
        {
          "output_type": "stream",
          "name": "stdout",
          "text": [
            "Original List: [4, 3, 2, 1]\n",
            "Reversed List: [1, 2, 3, 4]\n"
          ]
        }
      ]
    },
    {
      "cell_type": "markdown",
      "source": [
        "#Detect a cycle in a linked list."
      ],
      "metadata": {
        "id": "K1Il4cUpVG35"
      }
    },
    {
      "cell_type": "code",
      "source": [
        "def detect_cycle(self):\n",
        "        slow = self.head\n",
        "        fast = self.head\n",
        "\n",
        "        while fast and fast.next:\n",
        "            slow = slow.next\n",
        "            fast = fast.next.next\n",
        "            if slow == fast:\n",
        "                return True\n",
        "        return False\n",
        "\n",
        "ll.head.next.next.next.next = ll.head.next\n",
        "print(\"Cycle detected:\" if ll.detect_cycle() else \"No cycle detected\")\n",
        "ll.head.next.next.next.next = None\n",
        "print(\"Cycle detected:\" if ll.detect_cycle() else \"No cycle detected\")"
      ],
      "metadata": {
        "colab": {
          "base_uri": "https://localhost:8080/"
        },
        "id": "K6xp_7A9VMa6",
        "outputId": "9f907ab3-c3d8-4577-c2bd-775c247474b2"
      },
      "execution_count": null,
      "outputs": [
        {
          "output_type": "stream",
          "name": "stdout",
          "text": [
            "Cycle detected:\n",
            "No cycle detected\n"
          ]
        }
      ]
    },
    {
      "cell_type": "markdown",
      "source": [
        "#Find the middle element in a linked list."
      ],
      "metadata": {
        "id": "TJ7D_3o0ZaBO"
      }
    },
    {
      "cell_type": "code",
      "source": [
        "class Node:\n",
        "    def __init__(self, data):\n",
        "        self.data = data\n",
        "        self.next = None\n",
        "class LinkedList:\n",
        "    def __init__(self):\n",
        "        self.head = None\n",
        "    def append(self, data):\n",
        "        new_node = Node(data)\n",
        "        if not self.head:\n",
        "            self.head = new_node\n",
        "        else:\n",
        "            current = self.head\n",
        "            while current.next:\n",
        "                current = current.next\n",
        "            current.next = new_node\n",
        "    def find_middle(self):\n",
        "        slow = self.head\n",
        "        fast = self.head\n",
        "        while fast and fast.next:\n",
        "            slow = slow.next\n",
        "            fast = fast.next.next\n",
        "        return slow.data if slow else None\n",
        "ll = LinkedList()\n",
        "ll.append(1)\n",
        "ll.append(2)\n",
        "ll.append(3)\n",
        "ll.append(4)\n",
        "ll.append(5)\n",
        "print(\"Middle Element:\", ll.find_middle())  # Output: 3\n",
        "ll.append(6)\n",
        "print(\"Middle Element:\", ll.find_middle())  # Output: 4"
      ],
      "metadata": {
        "colab": {
          "base_uri": "https://localhost:8080/"
        },
        "id": "ZHE01Fy5ZgAT",
        "outputId": "274e5ab7-9bb0-4243-a497-75329471916a"
      },
      "execution_count": null,
      "outputs": [
        {
          "output_type": "stream",
          "name": "stdout",
          "text": [
            "Middle Element: 3\n",
            "Middle Element: 4\n"
          ]
        }
      ]
    },
    {
      "cell_type": "markdown",
      "source": [
        "#Merge two sorted linked lists."
      ],
      "metadata": {
        "id": "1LX76-EWcwm5"
      }
    },
    {
      "cell_type": "code",
      "source": [
        "class Node:\n",
        "    def __init__(self, data):\n",
        "        self.data = data\n",
        "        self.next = None\n",
        "class LinkedList:\n",
        "    def __init__(self):\n",
        "        self.head = None\n",
        "    def append(self, data):\n",
        "        new_node = Node(data)\n",
        "        if not self.head:\n",
        "            self.head = new_node\n",
        "        else:\n",
        "            current = self.head\n",
        "            while current.next:\n",
        "                current = current.next\n",
        "            current.next = new_node\n",
        "    def display(self):\n",
        "        elements = []\n",
        "        current = self.head\n",
        "        while current:\n",
        "            elements.append(current.data)\n",
        "            current = current.next\n",
        "        return elements\n",
        "def merge_sorted_lists(list1, list2):\n",
        "    dummy = Node(0)\n",
        "    tail = dummy\n",
        "    while list1 and list2:\n",
        "        if list1.data < list2.data:\n",
        "            tail.next = list1\n",
        "            list1 = list1.next\n",
        "        else:\n",
        "            tail.next = list2\n",
        "            list2 = list2.next\n",
        "        tail = tail.next\n",
        "    if list1:\n",
        "        tail.next = list1\n",
        "    if list2:\n",
        "        tail.next = list2\n",
        "    return dummy.next\n",
        "list1 = LinkedList()\n",
        "list2 = LinkedList()\n",
        "list1.append(1)\n",
        "list1.append(3)\n",
        "list1.append(5)\n",
        "list2.append(2)\n",
        "list2.append(4)\n",
        "list2.append(6)\n",
        "merged_head = merge_sorted_lists(list1.head, list2.head)\n",
        "merged_list = LinkedList()\n",
        "merged_list.head = merged_head\n",
        "print(\"Merged List:\", merged_list.display())\n"
      ],
      "metadata": {
        "colab": {
          "base_uri": "https://localhost:8080/"
        },
        "id": "kfSkjYFGc0vo",
        "outputId": "4a89aab3-6552-4af0-c31e-dd58cb6d8c9f"
      },
      "execution_count": null,
      "outputs": [
        {
          "output_type": "stream",
          "name": "stdout",
          "text": [
            "Merged List: [1, 2, 3, 4, 5, 6]\n"
          ]
        }
      ]
    },
    {
      "cell_type": "markdown",
      "source": [
        "#Remove duplicates from a linked list."
      ],
      "metadata": {
        "id": "IlWcVL01eSDo"
      }
    },
    {
      "cell_type": "code",
      "source": [
        "class Node:\n",
        "    \"\"\"A node in a singly linked list.\"\"\"\n",
        "    def __init__(self, data):\n",
        "        self.data = data\n",
        "        self.next = None\n",
        "\n",
        "\n",
        "class LinkedList:\n",
        "    \"\"\"A singly linked list.\"\"\"\n",
        "    def __init__(self):\n",
        "        self.head = None\n",
        "\n",
        "    def append(self, data):\n",
        "        \"\"\"Add a new node at the end of the list.\"\"\"\n",
        "        new_node = Node(data)\n",
        "        if not self.head:\n",
        "            self.head = new_node\n",
        "        else:\n",
        "            current = self.head\n",
        "            while current.next:\n",
        "                current = current.next\n",
        "            current.next = new_node\n",
        "\n",
        "    def display(self):\n",
        "        \"\"\"Display the contents of the list.\"\"\"\n",
        "        elements = []\n",
        "        current = self.head\n",
        "        while current:\n",
        "            elements.append(current.data)\n",
        "            current = current.next\n",
        "        return elements\n",
        "\n",
        "    def remove_duplicates(self):\n",
        "        \"\"\"Remove duplicates from the linked list using a hash set.\"\"\"\n",
        "        if not self.head:\n",
        "            return\n",
        "\n",
        "        seen = set()\n",
        "        current = self.head\n",
        "        seen.add(current.data)\n",
        "        while current.next:\n",
        "            if current.next.data in seen:\n",
        "                current.next = current.next.next  # Skip duplicate\n",
        "            else:\n",
        "                seen.add(current.next.data)\n",
        "                current = current.next\n",
        "\n",
        "\n",
        "# Example Usage\n",
        "ll = LinkedList()\n",
        "ll.append(1)\n",
        "ll.append(2)\n",
        "ll.append(2)\n",
        "ll.append(3)\n",
        "ll.append(4)\n",
        "ll.append(4)\n",
        "print(\"Original List:\", ll.display())\n",
        "\n",
        "ll.remove_duplicates()\n",
        "print(\"List after removing duplicates:\", ll.display())"
      ],
      "metadata": {
        "colab": {
          "base_uri": "https://localhost:8080/"
        },
        "id": "4dPPdVE7eWvf",
        "outputId": "f42b31c5-7598-4f6a-c3e0-09e1304c94c6"
      },
      "execution_count": null,
      "outputs": [
        {
          "output_type": "stream",
          "name": "stdout",
          "text": [
            "Original List: [1, 2, 2, 3, 4, 4]\n",
            "List after removing duplicates: [1, 2, 3, 4]\n"
          ]
        }
      ]
    },
    {
      "cell_type": "markdown",
      "source": [
        "#Remove nth node from the end of a linked list"
      ],
      "metadata": {
        "id": "KJLiTrJqf8ew"
      }
    },
    {
      "cell_type": "code",
      "source": [
        "class Node:\n",
        "    def __init__(self, data):\n",
        "        self.data = data\n",
        "        self.next = None\n",
        "class LinkedList:\n",
        "    def __init__(self):\n",
        "        self.head = None\n",
        "\n",
        "    def append(self, data):\n",
        "        new_node = Node(data)\n",
        "        if not self.head:\n",
        "            self.head = new_node\n",
        "        else:\n",
        "            current = self.head\n",
        "            while current.next:\n",
        "                current = current.next\n",
        "            current.next = new_node\n",
        "    def display(self):\n",
        "        elements = []\n",
        "        current = self.head\n",
        "        while current:\n",
        "            elements.append(current.data)\n",
        "            current = current.next\n",
        "        return elements\n",
        "    def remove_nth_from_end(self, n):\n",
        "        slow = self.head\n",
        "        fast = self.head\n",
        "        for _ in range(n):\n",
        "            if fast:\n",
        "                fast = fast.next\n",
        "        if not fast:\n",
        "            self.head = self.head.next\n",
        "            return\n",
        "        while fast.next:\n",
        "            slow = slow.next\n",
        "            fast = fast.next\n",
        "        slow.next = slow.next.next\n",
        "ll = LinkedList()\n",
        "ll.append(1)\n",
        "ll.append(2)\n",
        "ll.append(3)\n",
        "ll.append(4)\n",
        "ll.append(5)\n",
        "ll.remove_nth_from_end(2)\n",
        "print(ll.display())"
      ],
      "metadata": {
        "colab": {
          "base_uri": "https://localhost:8080/"
        },
        "id": "Guo6V70D4nqi",
        "outputId": "cace47f0-0870-4d4f-e8be-8dc5f658dab2"
      },
      "execution_count": 1,
      "outputs": [
        {
          "output_type": "stream",
          "name": "stdout",
          "text": [
            "[1, 2, 3, 5]\n"
          ]
        }
      ]
    },
    {
      "cell_type": "markdown",
      "source": [
        "#Find the intersection of two linked lists"
      ],
      "metadata": {
        "id": "nvju-YQ341zD"
      }
    },
    {
      "cell_type": "code",
      "source": [
        "class Node:\n",
        "    def __init__(self, data):\n",
        "        self.data = data\n",
        "        self.next = None\n",
        "def get_intersection_node(head1, head2):\n",
        "    def get_length(head):\n",
        "        length = 0\n",
        "        current = head\n",
        "        while current:\n",
        "            length += 1\n",
        "            current = current.next\n",
        "        return length\n",
        "    len1 = get_length(head1)\n",
        "    len2 = get_length(head2)\n",
        "    if len1 > len2:\n",
        "        for _ in range(len1 - len2):\n",
        "            head1 = head1.next\n",
        "    elif len2 > len1:\n",
        "        for _ in range(len2 - len1):\n",
        "            head2 = head2.next\n",
        "    while head1 and head2:\n",
        "        if head1 == head2:\n",
        "            return head1\n",
        "        head1 = head1.next\n",
        "        head2 = head2.next\n",
        "    return None\n",
        "class LinkedList:\n",
        "    def __init__(self):\n",
        "        self.head = None\n",
        "    def append(self, data):\n",
        "        new_node = Node(data)\n",
        "        if not self.head:\n",
        "            self.head = new_node\n",
        "        else:\n",
        "            current = self.head\n",
        "            while current.next:\n",
        "                current = current.next\n",
        "            current.next = new_node\n",
        "    def display(self):\n",
        "        elements = []\n",
        "        current = self.head\n",
        "        while current:\n",
        "            elements.append(current.data)\n",
        "            current = current.next\n",
        "        return elements\n",
        "ll1 = LinkedList()\n",
        "ll2 = LinkedList()\n",
        "ll1.append(1)\n",
        "ll1.append(2)\n",
        "node3 = Node(3)\n",
        "node4 = Node(4)\n",
        "ll1.head.next.next = node3\n",
        "ll1.head.next.next.next = node4\n",
        "intersection = node3\n",
        "ll2.append(6)\n",
        "ll2.append(7)\n",
        "ll2.head.next.next = intersection\n",
        "intersection.next = None\n",
        "intersection_node = get_intersection_node(ll1.head, ll2.head)\n",
        "if intersection_node:\n",
        "    print(intersection_node.data)\n",
        "else:\n",
        "    print(\"No intersection\")"
      ],
      "metadata": {
        "colab": {
          "base_uri": "https://localhost:8080/"
        },
        "id": "X0E45h0Q458y",
        "outputId": "06478db2-fbd9-4112-cccf-3cbc0f625604"
      },
      "execution_count": 5,
      "outputs": [
        {
          "output_type": "stream",
          "name": "stdout",
          "text": [
            "3\n"
          ]
        }
      ]
    },
    {
      "cell_type": "markdown",
      "source": [
        "#Implement Depth-First Search (DFS)"
      ],
      "metadata": {
        "id": "lpiiexA16Kfg"
      }
    },
    {
      "cell_type": "code",
      "source": [
        "def dfs(graph, start, visited=None):\n",
        "    if visited is None:\n",
        "        visited = set()\n",
        "    visited.add(start)\n",
        "    print(start, end=\" \")\n",
        "\n",
        "    for neighbor in graph[start]:\n",
        "        if neighbor not in visited:\n",
        "            dfs(graph, neighbor, visited)\n",
        "graph = {\n",
        "    0: [1, 2],\n",
        "    1: [0, 3, 4],\n",
        "    2: [0],\n",
        "    3: [1],\n",
        "    4: [1]\n",
        "}\n",
        "\n",
        "dfs(graph, 0)"
      ],
      "metadata": {
        "colab": {
          "base_uri": "https://localhost:8080/"
        },
        "id": "vrCuGHwk6OAW",
        "outputId": "d5db608e-8635-4642-a4f0-11ba31f47b4a"
      },
      "execution_count": 6,
      "outputs": [
        {
          "output_type": "stream",
          "name": "stdout",
          "text": [
            "0 1 3 4 2 "
          ]
        }
      ]
    },
    {
      "cell_type": "markdown",
      "source": [
        "#Implement Breadth-First Search (BFS)"
      ],
      "metadata": {
        "id": "BT2O7I0h6UpP"
      }
    },
    {
      "cell_type": "code",
      "source": [
        "from collections import deque\n",
        "def bfs(graph, start):\n",
        "    visited = set()\n",
        "    queue = deque([start])\n",
        "    visited.add(start)\n",
        "    while queue:\n",
        "        node = queue.popleft()\n",
        "        print(node, end=\" \")\n",
        "\n",
        "        for neighbor in graph[node]:\n",
        "            if neighbor not in visited:\n",
        "                visited.add(neighbor)\n",
        "                queue.append(neighbor)\n",
        "graph = {\n",
        "    0: [1, 2],\n",
        "    1: [0, 3, 4],\n",
        "    2: [0],\n",
        "    3: [1],\n",
        "    4: [1]\n",
        "}\n",
        "bfs(graph, 0)\n"
      ],
      "metadata": {
        "colab": {
          "base_uri": "https://localhost:8080/"
        },
        "id": "jkrUlM-z6Y1m",
        "outputId": "0f489452-3015-4c97-c542-cbee920c8bd1"
      },
      "execution_count": 7,
      "outputs": [
        {
          "output_type": "stream",
          "name": "stdout",
          "text": [
            "0 1 2 3 4 "
          ]
        }
      ]
    },
    {
      "cell_type": "markdown",
      "source": [
        "#Find all subsets of a set (Power Set)"
      ],
      "metadata": {
        "id": "HDVXTVnr6l7D"
      }
    },
    {
      "cell_type": "code",
      "source": [
        "def find_subsets(nums):\n",
        "    subsets = []\n",
        "    def backtrack(start, current):\n",
        "        subsets.append(current[:])\n",
        "        for i in range(start, len(nums)):\n",
        "            current.append(nums[i])\n",
        "            backtrack(i + 1, current)\n",
        "            current.pop()\n",
        "    backtrack(0, [])\n",
        "    return subsets\n",
        "nums = [1, 2, 3]\n",
        "print(find_subsets(nums))"
      ],
      "metadata": {
        "id": "TP1AFlgm6qvB"
      },
      "execution_count": null,
      "outputs": []
    },
    {
      "cell_type": "markdown",
      "source": [
        "# Solve the Tower of Hanoi Problem"
      ],
      "metadata": {
        "id": "KFNzhf6Q6924"
      }
    },
    {
      "cell_type": "code",
      "source": [
        "def tower_of_hanoi(n, source, target, auxiliary):\n",
        "    if n == 1:\n",
        "        print(f\"Move disk 1 from {source} to {target}\")\n",
        "        return\n",
        "    tower_of_hanoi(n - 1, source, auxiliary, target)\n",
        "    print(f\"Move disk {n} from {source} to {target}\")\n",
        "    tower_of_hanoi(n - 1, auxiliary, target, source)\n",
        "tower_of_hanoi(3, 'A', 'C', 'B')"
      ],
      "metadata": {
        "colab": {
          "base_uri": "https://localhost:8080/"
        },
        "id": "qKZfZplr7Bkl",
        "outputId": "9cce477e-6042-4556-8794-24012638ef91"
      },
      "execution_count": 8,
      "outputs": [
        {
          "output_type": "stream",
          "name": "stdout",
          "text": [
            "Move disk 1 from A to C\n",
            "Move disk 2 from A to B\n",
            "Move disk 1 from C to B\n",
            "Move disk 3 from A to C\n",
            "Move disk 1 from B to A\n",
            "Move disk 2 from B to C\n",
            "Move disk 1 from A to C\n"
          ]
        }
      ]
    },
    {
      "cell_type": "markdown",
      "source": [
        "#Implement LRU Cache"
      ],
      "metadata": {
        "id": "Oyobw4FT7I4v"
      }
    },
    {
      "cell_type": "code",
      "source": [
        "from collections import OrderedDict\n",
        "class LRUCache:\n",
        "    def __init__(self, capacity: int):\n",
        "        self.cache = OrderedDict()\n",
        "        self.capacity = capacity\n",
        "    def get(self, key: int) -> int:\n",
        "        if key not in self.cache:\n",
        "            return -1\n",
        "        self.cache.move_to_end(key)\n",
        "        return self.cache[key]\n",
        "\n",
        "    def put(self, key: int, value: int) -> None:\n",
        "        if len(self.cache) >= self.capacity:\n",
        "            self.cache.popitem(last=False)\n",
        "        self.cache[key] = value\n",
        "        self.cache.move_to_end(key)\n",
        "lru = LRUCache(2)\n",
        "lru.put(1, 1)\n",
        "lru.put(2, 2)\n",
        "print(lru.get(1))\n",
        "lru.put(3, 3)\n",
        "print(lru.get(2))"
      ],
      "metadata": {
        "colab": {
          "base_uri": "https://localhost:8080/"
        },
        "id": "5Yak1Wne7MCu",
        "outputId": "b451a4ed-fad0-461d-a641-448674c9941b"
      },
      "execution_count": 9,
      "outputs": [
        {
          "output_type": "stream",
          "name": "stdout",
          "text": [
            "1\n",
            "-1\n"
          ]
        }
      ]
    },
    {
      "cell_type": "markdown",
      "source": [
        "#Check if a graph is bipartite"
      ],
      "metadata": {
        "id": "iI_dRcSI7cnR"
      }
    },
    {
      "cell_type": "code",
      "source": [
        "from collections import deque\n",
        "def is_bipartite(graph):\n",
        "    color = {}\n",
        "    for node in graph:\n",
        "        if node not in color:\n",
        "            queue = deque([node])\n",
        "            color[node] = 0\n",
        "            while queue:\n",
        "                current = queue.popleft()\n",
        "                for neighbor in graph[current]:\n",
        "                    if neighbor not in color:\n",
        "                        color[neighbor] = 1 - color[current]\n",
        "                        queue.append(neighbor)\n",
        "                    elif color[neighbor] == color[current]:\n",
        "                        return False\n",
        "    return True\n",
        "graph = {\n",
        "    0: [1, 3],\n",
        "    1: [0, 2],\n",
        "    2: [1, 3],\n",
        "    3: [0, 2]\n",
        "}\n",
        "print(is_bipartite(graph))"
      ],
      "metadata": {
        "colab": {
          "base_uri": "https://localhost:8080/"
        },
        "id": "mi_a88kt7lHR",
        "outputId": "cb64106e-66b0-4d3d-c2f9-1ae1ef0dcbf9"
      },
      "execution_count": 10,
      "outputs": [
        {
          "output_type": "stream",
          "name": "stdout",
          "text": [
            "True\n"
          ]
        }
      ]
    },
    {
      "cell_type": "markdown",
      "source": [
        "#Implement Dijkstra’s algorithm"
      ],
      "metadata": {
        "id": "RV2nBuzd74_x"
      }
    },
    {
      "cell_type": "code",
      "source": [
        "import heapq\n",
        "def dijkstra(graph, start):\n",
        "    distances = {node: float('inf') for node in graph}\n",
        "    distances[start] = 0\n",
        "    priority_queue = [(0, start)]\n",
        "    while priority_queue:\n",
        "        current_distance, current_node = heapq.heappop(priority_queue)\n",
        "        if current_distance > distances[current_node]:\n",
        "            continue\n",
        "        for neighbor, weight in graph[current_node]:\n",
        "            distance = current_distance + weight\n",
        "            if distance < distances[neighbor]:\n",
        "                distances[neighbor] = distance\n",
        "                heapq.heappush(priority_queue, (distance, neighbor))\n",
        "    return distances\n",
        "graph = {\n",
        "    'A': [('B', 1), ('C', 4)],\n",
        "    'B': [('A', 1), ('C', 2), ('D', 5)],\n",
        "    'C': [('A', 4), ('B', 2), ('D', 1)],\n",
        "    'D': [('B', 5), ('C', 1)]\n",
        "}\n",
        "print(dijkstra(graph, 'A'))"
      ],
      "metadata": {
        "colab": {
          "base_uri": "https://localhost:8080/"
        },
        "id": "fJ0AeZIq78BH",
        "outputId": "7e8ba3bc-080a-4f10-b8ef-5a531af678ab"
      },
      "execution_count": 11,
      "outputs": [
        {
          "output_type": "stream",
          "name": "stdout",
          "text": [
            "{'A': 0, 'B': 1, 'C': 3, 'D': 4}\n"
          ]
        }
      ]
    },
    {
      "cell_type": "markdown",
      "source": [
        "# Implement Floyd-Warshall algorithm"
      ],
      "metadata": {
        "id": "4W4JPaep8owH"
      }
    },
    {
      "cell_type": "code",
      "source": [
        "def floyd_warshall(graph):\n",
        "    nodes = list(graph.keys())\n",
        "    dist = {node: {other: float('inf') for other in nodes} for node in nodes}\n",
        "    for node in nodes:\n",
        "        dist[node][node] = 0\n",
        "        for neighbor, weight in graph[node]:\n",
        "            dist[node][neighbor] = weight\n",
        "    for k in nodes:\n",
        "        for i in nodes:\n",
        "            for j in nodes:\n",
        "                if dist[i][j] > dist[i][k] + dist[k][j]:\n",
        "                    dist[i][j] = dist[i][k] + dist[k][j]\n",
        "    return dist\n",
        "graph = {\n",
        "    'A': [('B', 1), ('C', 4)],\n",
        "    'B': [('A', 1), ('C', 2), ('D', 5)],\n",
        "    'C': [('A', 4), ('B', 2), ('D', 1)],\n",
        "    'D': [('B', 5), ('C', 1)]\n",
        "}\n",
        "print(floyd_warshall(graph))"
      ],
      "metadata": {
        "colab": {
          "base_uri": "https://localhost:8080/"
        },
        "id": "DetQJTbe8tTZ",
        "outputId": "c2f404c1-4417-4df7-a7c4-af0aec85ae93"
      },
      "execution_count": 12,
      "outputs": [
        {
          "output_type": "stream",
          "name": "stdout",
          "text": [
            "{'A': {'A': 0, 'B': 1, 'C': 3, 'D': 4}, 'B': {'A': 1, 'B': 0, 'C': 2, 'D': 3}, 'C': {'A': 3, 'B': 2, 'C': 0, 'D': 1}, 'D': {'A': 4, 'B': 3, 'C': 1, 'D': 0}}\n"
          ]
        }
      ]
    },
    {
      "cell_type": "markdown",
      "source": [
        "#Find all subsets of a set"
      ],
      "metadata": {
        "id": "F954_dZU82f9"
      }
    },
    {
      "cell_type": "code",
      "source": [
        "def find_subsets(nums):\n",
        "  subsets = []\n",
        "  def backtrack(start, current):\n",
        "    subsets.append(current[:])\n",
        "    for i in range(start, len(nums)):\n",
        "      current.append(nums[i])\n",
        "      backtrack(i + 1, current)\n",
        "      current.pop()\n",
        "  backtrack(0, [])\n",
        "  return subsets\n",
        "nums = [1, 2, 3]\n",
        "print(find_subsets(nums))"
      ],
      "metadata": {
        "colab": {
          "base_uri": "https://localhost:8080/"
        },
        "id": "1jR8biJX85_b",
        "outputId": "a8a2b9a7-c51d-498c-b8b0-f38d69f4540d"
      },
      "execution_count": 13,
      "outputs": [
        {
          "output_type": "stream",
          "name": "stdout",
          "text": [
            "[[], [1], [1, 2], [1, 2, 3], [1, 3], [2], [2, 3], [3]]\n"
          ]
        }
      ]
    },
    {
      "cell_type": "markdown",
      "source": [
        "#Find all permutations of a string"
      ],
      "metadata": {
        "id": "I0Pc3hfO9J0w"
      }
    },
    {
      "cell_type": "code",
      "source": [
        "from itertools import permutations\n",
        "def find_permutations(string):\n",
        "    perms = [''.join(perm) for perm in permutations(string)]\n",
        "    return perms\n",
        "string = \"abc\"\n",
        "print(find_permutations(string))"
      ],
      "metadata": {
        "colab": {
          "base_uri": "https://localhost:8080/"
        },
        "id": "NyeRTnd19MXx",
        "outputId": "5b499803-0617-4697-ade0-41265006788c"
      },
      "execution_count": 14,
      "outputs": [
        {
          "output_type": "stream",
          "name": "stdout",
          "text": [
            "['abc', 'acb', 'bac', 'bca', 'cab', 'cba']\n"
          ]
        }
      ]
    },
    {
      "cell_type": "markdown",
      "source": [
        "#Count ways to climb stairs (dynamic programming)"
      ],
      "metadata": {
        "id": "t-ZyV6sq-L8J"
      }
    },
    {
      "cell_type": "code",
      "source": [
        "def count_ways_to_climb(n):\n",
        "    if n <= 1:\n",
        "        return 1\n",
        "    dp = [0] * (n + 1)\n",
        "    dp[0], dp[1] = 1, 1\n",
        "    for i in range(2, n + 1):\n",
        "        dp[i] = dp[i - 1] + dp[i - 2]\n",
        "    return dp[n]\n",
        "n = 5\n",
        "print(count_ways_to_climb(n))"
      ],
      "metadata": {
        "colab": {
          "base_uri": "https://localhost:8080/"
        },
        "id": "Cm2HgyaB-V4x",
        "outputId": "43bd3f4a-3eb8-4168-f0cb-89fb0d764eaf"
      },
      "execution_count": 15,
      "outputs": [
        {
          "output_type": "stream",
          "name": "stdout",
          "text": [
            "8\n"
          ]
        }
      ]
    },
    {
      "cell_type": "markdown",
      "source": [
        "#Implement the coin change problem"
      ],
      "metadata": {
        "id": "84etM6R6-ayM"
      }
    },
    {
      "cell_type": "code",
      "source": [
        "def coin_change(coins, amount):\n",
        "    dp = [float('inf')] * (amount + 1)\n",
        "    dp[0] = 0\n",
        "    for coin in coins:\n",
        "        for i in range(coin, amount + 1):\n",
        "            dp[i] = min(dp[i], dp[i - coin] + 1)\n",
        "    return dp[amount] if dp[amount] != float('inf') else -1\n",
        "coins = [1, 2, 5]\n",
        "amount = 11\n",
        "print(coin_change(coins, amount))"
      ],
      "metadata": {
        "colab": {
          "base_uri": "https://localhost:8080/"
        },
        "id": "pjTbuNDG-aRi",
        "outputId": "f16b66da-6507-463b-8e31-be1212986a18"
      },
      "execution_count": 16,
      "outputs": [
        {
          "output_type": "stream",
          "name": "stdout",
          "text": [
            "3\n"
          ]
        }
      ]
    },
    {
      "cell_type": "markdown",
      "source": [
        "#Solve the rod cutting problem"
      ],
      "metadata": {
        "id": "htx5kArK-oAD"
      }
    },
    {
      "cell_type": "code",
      "source": [
        "def rod_cutting(prices, n):\n",
        "    dp = [0] * (n + 1)\n",
        "    for i in range(1, n + 1):\n",
        "        for j in range(i):\n",
        "            dp[i] = max(dp[i], prices[j] + dp[i - j - 1])\n",
        "    return dp[n]\n",
        "prices = [2, 5, 7, 8, 10]\n",
        "n = 5\n",
        "print(rod_cutting(prices, n))"
      ],
      "metadata": {
        "colab": {
          "base_uri": "https://localhost:8080/"
        },
        "id": "SCvfdUlU-u3d",
        "outputId": "f030069c-8da9-4103-ed4f-6e6412e5a0f6"
      },
      "execution_count": 17,
      "outputs": [
        {
          "output_type": "stream",
          "name": "stdout",
          "text": [
            "12\n"
          ]
        }
      ]
    },
    {
      "cell_type": "markdown",
      "source": [
        "#Find the longest common subsequence"
      ],
      "metadata": {
        "id": "ZXre-tqu-1KK"
      }
    },
    {
      "cell_type": "code",
      "source": [
        "def longest_common_subsequence(text1, text2):\n",
        "    m, n = len(text1), len(text2)\n",
        "    dp = [[0] * (n + 1) for _ in range(m + 1)]\n",
        "    for i in range(1, m + 1):\n",
        "        for j in range(1, n + 1):\n",
        "            if text1[i - 1] == text2[j - 1]:\n",
        "                dp[i][j] = dp[i - 1][j - 1] + 1\n",
        "            else:\n",
        "                dp[i][j] = max(dp[i - 1][j], dp[i][j - 1])\n",
        "    return dp[m][n]\n",
        "text1 = \"abcde\"\n",
        "text2 = \"ace\"\n",
        "print(longest_common_subsequence(text1, text2))"
      ],
      "metadata": {
        "colab": {
          "base_uri": "https://localhost:8080/"
        },
        "id": "p0yjepIF-2qR",
        "outputId": "75badda3-bc62-40b7-c313-ce0ed3ed033e"
      },
      "execution_count": 18,
      "outputs": [
        {
          "output_type": "stream",
          "name": "stdout",
          "text": [
            "3\n"
          ]
        }
      ]
    },
    {
      "cell_type": "markdown",
      "source": [
        "# Find the longest increasing subsequence"
      ],
      "metadata": {
        "id": "eoBPB-t2--NF"
      }
    },
    {
      "cell_type": "code",
      "source": [
        "def length_of_lis(nums):\n",
        "    if not nums:\n",
        "        return 0\n",
        "    dp = [1] * len(nums)\n",
        "    for i in range(1, len(nums)):\n",
        "        for j in range(i):\n",
        "            if nums[i] > nums[j]:\n",
        "                dp[i] = max(dp[i], dp[j] + 1)\n",
        "    return max(dp)\n",
        "nums = [10, 9, 2, 5, 3, 7, 101, 18]\n",
        "print(length_of_lis(nums))"
      ],
      "metadata": {
        "colab": {
          "base_uri": "https://localhost:8080/"
        },
        "id": "OqqD847T_A5C",
        "outputId": "44d8cfcc-b4ba-4a04-8a0a-eb79779e72ab"
      },
      "execution_count": 19,
      "outputs": [
        {
          "output_type": "stream",
          "name": "stdout",
          "text": [
            "4\n"
          ]
        }
      ]
    },
    {
      "cell_type": "markdown",
      "source": [
        "#Find the number of islands in a grid"
      ],
      "metadata": {
        "id": "kauR5326_HxR"
      }
    },
    {
      "cell_type": "code",
      "source": [
        "def num_islands(grid):\n",
        "    if not grid:\n",
        "        return 0\n",
        "\n",
        "    def dfs(i, j):\n",
        "        if i < 0 or i >= len(grid) or j < 0 or j >= len(grid[0]) or grid[i][j] == '0':\n",
        "            return\n",
        "        grid[i][j] = '0'\n",
        "        dfs(i - 1, j)\n",
        "        dfs(i + 1, j)\n",
        "        dfs(i, j - 1)\n",
        "        dfs(i, j + 1)\n",
        "    count = 0\n",
        "    for i in range(len(grid)):\n",
        "        for j in range(len(grid[0])):\n",
        "            if grid[i][j] == '1':\n",
        "                dfs(i, j)\n",
        "                count += 1\n",
        "    return count\n",
        "grid = [\n",
        "    [\"1\", \"1\", \"1\", \"1\", \"0\"],\n",
        "    [\"1\", \"1\", \"0\", \"1\", \"0\"],\n",
        "    [\"1\", \"1\", \"0\", \"0\", \"0\"],\n",
        "    [\"0\", \"0\", \"0\", \"0\", \"0\"]\n",
        "]\n",
        "print(num_islands(grid))"
      ],
      "metadata": {
        "colab": {
          "base_uri": "https://localhost:8080/"
        },
        "id": "trt0tdT-_L92",
        "outputId": "5018b3b5-6d00-4a11-b04f-7f666aa3c436"
      },
      "execution_count": 20,
      "outputs": [
        {
          "output_type": "stream",
          "name": "stdout",
          "text": [
            "1\n"
          ]
        }
      ]
    },
    {
      "cell_type": "markdown",
      "source": [
        "#Find the maximum product subarray"
      ],
      "metadata": {
        "id": "KAJnnZ_Q_Y8D"
      }
    },
    {
      "cell_type": "code",
      "source": [
        "def max_product(nums):\n",
        "    if not nums:\n",
        "        return 0\n",
        "    max_prod = min_prod = result = nums[0]\n",
        "    for i in range(1, len(nums)):\n",
        "        if nums[i] < 0:\n",
        "            max_prod, min_prod = min_prod, max_prod\n",
        "        max_prod = max(nums[i], max_prod * nums[i])\n",
        "        min_prod = min(nums[i], min_prod * nums[i])\n",
        "        result = max(result, max_prod)\n",
        "    return result\n",
        "nums = [2, 3, -2, 4]\n",
        "print(max_product(nums))"
      ],
      "metadata": {
        "colab": {
          "base_uri": "https://localhost:8080/"
        },
        "id": "3BJnx_a1_bet",
        "outputId": "685d5ed9-13af-4e81-c190-4b7fdf7949fa"
      },
      "execution_count": 21,
      "outputs": [
        {
          "output_type": "stream",
          "name": "stdout",
          "text": [
            "6\n"
          ]
        }
      ]
    },
    {
      "cell_type": "markdown",
      "source": [
        "#Implement the knapsack problem"
      ],
      "metadata": {
        "id": "xwlaHO6G_l10"
      }
    },
    {
      "cell_type": "code",
      "source": [
        "def knapsack(weights, values, capacity):\n",
        "    n = len(weights)\n",
        "    dp = [[0] * (capacity + 1) for _ in range(n + 1)]\n",
        "    for i in range(1, n + 1):\n",
        "        for w in range(1, capacity + 1):\n",
        "            if weights[i - 1] <= w:\n",
        "                dp[i][w] = max(dp[i - 1][w], values[i - 1] + dp[i - 1][w - weights[i - 1]])\n",
        "            else:\n",
        "                dp[i][w] = dp[i - 1][w]\n",
        "    return dp[n][capacity]\n",
        "weights = [1, 3, 4, 5]\n",
        "values = [1, 4, 5, 7]\n",
        "capacity = 7\n",
        "print(knapsack(weights, values, capacity))"
      ],
      "metadata": {
        "colab": {
          "base_uri": "https://localhost:8080/"
        },
        "id": "x6kZfBaM_o7x",
        "outputId": "6871a9b8-2073-40ec-86c1-8a72d19d0c29"
      },
      "execution_count": 22,
      "outputs": [
        {
          "output_type": "stream",
          "name": "stdout",
          "text": [
            "9\n"
          ]
        }
      ]
    },
    {
      "cell_type": "markdown",
      "source": [
        "#Find the minimum path sum in a grid"
      ],
      "metadata": {
        "id": "0IUKJ3Pd_lnX"
      }
    },
    {
      "cell_type": "code",
      "source": [
        "def min_path_sum(grid):\n",
        "    if not grid:\n",
        "        return 0\n",
        "    m, n = len(grid), len(grid[0])\n",
        "    dp = [[0] * n for _ in range(m)]\n",
        "    dp[0][0] = grid[0][0]\n",
        "    for i in range(1, m):\n",
        "        dp[i][0] = dp[i - 1][0] + grid[i][0]\n",
        "    for j in range(1, n):\n",
        "        dp[0][j] = dp[0][j - 1] + grid[0][j]\n",
        "    for i in range(1, m):\n",
        "        for j in range(1, n):\n",
        "            dp[i][j] = min(dp[i - 1][j], dp[i][j - 1]) + grid[i][j]\n",
        "    return dp[m - 1][n - 1]\n",
        "grid = [\n",
        "    [1, 3, 1],\n",
        "    [1, 5, 1],\n",
        "    [4, 2, 1]\n",
        "]\n",
        "print(min_path_sum(grid))"
      ],
      "metadata": {
        "colab": {
          "base_uri": "https://localhost:8080/"
        },
        "id": "JH2JATHR_z12",
        "outputId": "c5b7d626-2be9-4776-cc38-080c93d6a186"
      },
      "execution_count": 23,
      "outputs": [
        {
          "output_type": "stream",
          "name": "stdout",
          "text": [
            "7\n"
          ]
        }
      ]
    },
    {
      "cell_type": "markdown",
      "source": [
        "#Rotate an image represented by a matrix"
      ],
      "metadata": {
        "id": "YRr1MqjQ_9W5"
      }
    },
    {
      "cell_type": "code",
      "source": [
        "def rotate(matrix):\n",
        "    n = len(matrix)\n",
        "    for i in range(n):\n",
        "        for j in range(i, n):\n",
        "            matrix[i][j], matrix[j][i] = matrix[j][i], matrix[i][j]\n",
        "    for i in range(n):\n",
        "        matrix[i].reverse()\n",
        "matrix = [\n",
        "    [1, 2, 3],\n",
        "    [4, 5, 6],\n",
        "    [7, 8, 9]\n",
        "]\n",
        "rotate(matrix)\n",
        "print(matrix)"
      ],
      "metadata": {
        "colab": {
          "base_uri": "https://localhost:8080/"
        },
        "id": "KuDmn1ynAA7W",
        "outputId": "e4a9f700-cef4-4a5d-8776-18f01b55bb3e"
      },
      "execution_count": 24,
      "outputs": [
        {
          "output_type": "stream",
          "name": "stdout",
          "text": [
            "[[7, 4, 1], [8, 5, 2], [9, 6, 3]]\n"
          ]
        }
      ]
    },
    {
      "cell_type": "markdown",
      "source": [
        "#Spiral order traversal of a matrix"
      ],
      "metadata": {
        "id": "hzsy3sXPAJmN"
      }
    },
    {
      "cell_type": "code",
      "source": [
        "def spiral_order(matrix):\n",
        "    result = []\n",
        "    while matrix:\n",
        "        result += matrix.pop(0)\n",
        "        if matrix and matrix[0]:\n",
        "            for row in matrix:\n",
        "                result.append(row.pop())\n",
        "        if matrix:\n",
        "            result += matrix.pop()[::-1]\n",
        "        if matrix and matrix[0]:\n",
        "            for row in matrix[::-1]:\n",
        "                result.append(row.pop(0))\n",
        "    return result\n",
        "matrix = [\n",
        "    [1, 2, 3],\n",
        "    [4, 5, 6],\n",
        "    [7, 8, 9]\n",
        "]\n",
        "print(spiral_order(matrix))"
      ],
      "metadata": {
        "colab": {
          "base_uri": "https://localhost:8080/"
        },
        "id": "qzuoUiXpAM5n",
        "outputId": "446d231b-dc4b-4881-9fa0-ef8ab3116b40"
      },
      "execution_count": 25,
      "outputs": [
        {
          "output_type": "stream",
          "name": "stdout",
          "text": [
            "[1, 2, 3, 6, 9, 8, 7, 4, 5]\n"
          ]
        }
      ]
    },
    {
      "cell_type": "markdown",
      "source": [
        "#Search a 2D matrix"
      ],
      "metadata": {
        "id": "xh6M65p5AZ5p"
      }
    },
    {
      "cell_type": "code",
      "source": [
        "def search_matrix(matrix, target):\n",
        "    if not matrix:\n",
        "        return False\n",
        "    row, col = len(matrix), len(matrix[0])\n",
        "    i, j = 0, col - 1\n",
        "    while i < row and j >= 0:\n",
        "        if matrix[i][j] == target:\n",
        "            return True\n",
        "        elif matrix[i][j] > target:\n",
        "            j -= 1\n",
        "        else:\n",
        "            i += 1\n",
        "    return False\n",
        "matrix = [\n",
        "    [1, 4, 7, 11],\n",
        "    [2, 5, 8, 12],\n",
        "    [3, 6, 9, 16],\n",
        "    [10, 13, 14, 17]\n",
        "]\n",
        "print(search_matrix(matrix, 5))\n",
        "print(search_matrix(matrix, 20))"
      ],
      "metadata": {
        "colab": {
          "base_uri": "https://localhost:8080/"
        },
        "id": "jubP5Fa-AeXY",
        "outputId": "a94bb15a-492d-4436-b16d-579fe0cefd4d"
      },
      "execution_count": 26,
      "outputs": [
        {
          "output_type": "stream",
          "name": "stdout",
          "text": [
            "True\n",
            "False\n"
          ]
        }
      ]
    },
    {
      "cell_type": "markdown",
      "source": [
        "#Solve N-Queens problem"
      ],
      "metadata": {
        "id": "XN57as9VAp6k"
      }
    },
    {
      "cell_type": "code",
      "source": [
        "def solve_n_queens(n):\n",
        "    def backtrack(row):\n",
        "        if row == n:\n",
        "            solution = []\n",
        "            for r in range(n):\n",
        "                solution.append('.' * board[r] + 'Q' + '.' * (n - board[r] - 1))\n",
        "            result.append(solution)\n",
        "            return\n",
        "        for col in range(n):\n",
        "            if col in cols or row - col in diag1 or row + col in diag2:\n",
        "                continue\n",
        "            cols.add(col)\n",
        "            diag1.add(row - col)\n",
        "            diag2.add(row + col)\n",
        "            board[row] = col\n",
        "            backtrack(row + 1)\n",
        "            cols.remove(col)\n",
        "            diag1.remove(row - col)\n",
        "            diag2.remove(row + col)\n",
        "    result = []\n",
        "    cols = set()\n",
        "    diag1 = set()\n",
        "    diag2 = set()\n",
        "    board = [-1] * n\n",
        "    backtrack(0)\n",
        "    return result\n",
        "n = 4\n",
        "print(solve_n_queens(n))"
      ],
      "metadata": {
        "colab": {
          "base_uri": "https://localhost:8080/"
        },
        "id": "BvWTMiYiAuGb",
        "outputId": "eeb9b2e1-0f12-4c1a-d291-c56cd176c314"
      },
      "execution_count": 27,
      "outputs": [
        {
          "output_type": "stream",
          "name": "stdout",
          "text": [
            "[['.Q..', '...Q', 'Q...', '..Q.'], ['..Q.', 'Q...', '...Q', '.Q..']]\n"
          ]
        }
      ]
    },
    {
      "cell_type": "markdown",
      "source": [
        "#Find the largest rectangle in a histogram"
      ],
      "metadata": {
        "id": "OL5chzQDBHaP"
      }
    },
    {
      "cell_type": "code",
      "source": [
        "def largest_rectangle_area(heights):\n",
        "    stack = [-1]\n",
        "    max_area = 0\n",
        "    for i, h in enumerate(heights):\n",
        "        while stack[-1] != -1 and heights[stack[-1]] >= h:\n",
        "            height = heights[stack.pop()]\n",
        "            width = i - stack[-1] - 1\n",
        "            max_area = max(max_area, height * width)\n",
        "        stack.append(i)\n",
        "    while stack[-1] != -1:\n",
        "        height = heights[stack.pop()]\n",
        "        width = len(heights) - stack[-1] - 1\n",
        "        max_area = max(max_area, height * width)\n",
        "\n",
        "    return max_area\n",
        "heights = [2, 1, 5, 6, 2, 3]\n",
        "print(largest_rectangle_area(heights))"
      ],
      "metadata": {
        "colab": {
          "base_uri": "https://localhost:8080/"
        },
        "id": "keey9xJRBMx-",
        "outputId": "7710aa8a-cfac-4cd2-b5b1-06c9cc8145a7"
      },
      "execution_count": 28,
      "outputs": [
        {
          "output_type": "stream",
          "name": "stdout",
          "text": [
            "10\n"
          ]
        }
      ]
    },
    {
      "cell_type": "markdown",
      "source": [
        "#Word ladder problem"
      ],
      "metadata": {
        "id": "BN_RQrWtBUy3"
      }
    },
    {
      "cell_type": "code",
      "source": [
        "from collections import deque\n",
        "def ladder_length(begin_word, end_word, word_list):\n",
        "    word_set = set(word_list)\n",
        "    if end_word not in word_set:\n",
        "        return 0\n",
        "    queue = deque([(begin_word, 1)])\n",
        "    while queue:\n",
        "        word, length = queue.popleft()\n",
        "        if word == end_word:\n",
        "            return length\n",
        "        for i in range(len(word)):\n",
        "            for char in 'abcdefghijklmnopqrstuvwxyz':\n",
        "                new_word = word[:i] + char + word[i + 1:]\n",
        "                if new_word in word_set:\n",
        "                    word_set.remove(new_word)\n",
        "                    queue.append((new_word, length + 1))\n",
        "    return 0\n",
        "begin_word = \"hit\"\n",
        "end_word = \"cog\"\n",
        "word_list = [\"hot\", \"dot\", \"dog\", \"lot\", \"log\", \"cog\"]\n",
        "print(ladder_length(begin_word, end_word, word_list))"
      ],
      "metadata": {
        "colab": {
          "base_uri": "https://localhost:8080/"
        },
        "id": "9_cLvjzXBePs",
        "outputId": "5d9c49a7-0801-452a-c704-b944c6f8c235"
      },
      "execution_count": 29,
      "outputs": [
        {
          "output_type": "stream",
          "name": "stdout",
          "text": [
            "5\n"
          ]
        }
      ]
    },
    {
      "cell_type": "markdown",
      "source": [
        "#Count inversions in an array"
      ],
      "metadata": {
        "id": "MaSIDTA8BulX"
      }
    },
    {
      "cell_type": "code",
      "source": [
        "def count_inversions(arr):\n",
        "    def merge_count_split_inv(arr, temp_arr, left, right):\n",
        "        if left == right:\n",
        "            return 0\n",
        "        mid = (left + right) // 2\n",
        "        inv_count = merge_count_split_inv(arr, temp_arr, left, mid)\n",
        "        inv_count += merge_count_split_inv(arr, temp_arr, mid + 1, right)\n",
        "        inv_count += merge_and_count(arr, temp_arr, left, mid, right)\n",
        "        return inv_count\n",
        "    def merge_and_count(arr, temp_arr, left, mid, right):\n",
        "        i = left\n",
        "        j = mid + 1\n",
        "        k = left\n",
        "        inv_count = 0\n",
        "        while i <= mid and j <= right:\n",
        "            if arr[i] <= arr[j]:\n",
        "                temp_arr[k] = arr[i]\n",
        "                i += 1\n",
        "            else:\n",
        "                temp_arr[k] = arr[j]\n",
        "                inv_count += (mid - i + 1)\n",
        "                j += 1\n",
        "            k += 1\n",
        "        while i <= mid:\n",
        "            temp_arr[k] = arr[i]\n",
        "            i += 1\n",
        "            k += 1\n",
        "        while j <= right:\n",
        "            temp_arr[k] = arr[j]\n",
        "            j += 1\n",
        "            k += 1\n",
        "        for i in range(left, right + 1):\n",
        "            arr[i] = temp_arr[i]\n",
        "        return inv_count\n",
        "    temp_arr = [0] * len(arr)\n",
        "    return merge_count_split_inv(arr, temp_arr, 0, len(arr) - 1)\n",
        "arr = [1, 20, 6, 4, 5]\n",
        "print(count_inversions(arr))"
      ],
      "metadata": {
        "colab": {
          "base_uri": "https://localhost:8080/"
        },
        "id": "QeUbAyISB1_V",
        "outputId": "c84ab046-36ae-49fc-8f2d-a151041c0134"
      },
      "execution_count": 30,
      "outputs": [
        {
          "output_type": "stream",
          "name": "stdout",
          "text": [
            "5\n"
          ]
        }
      ]
    },
    {
      "cell_type": "markdown",
      "source": [
        "#Implement KMP string matching algorithm"
      ],
      "metadata": {
        "id": "Jqnx2BV2CF-0"
      }
    },
    {
      "cell_type": "code",
      "source": [
        "def kmp_search(text, pattern):\n",
        "    def compute_lps(pattern):\n",
        "        lps = [0] * len(pattern)\n",
        "        length = 0\n",
        "        i = 1\n",
        "        while i < len(pattern):\n",
        "            if pattern[i] == pattern[length]:\n",
        "                length += 1\n",
        "                lps[i] = length\n",
        "                i += 1\n",
        "            else:\n",
        "                if length != 0:\n",
        "                    length = lps[length - 1]\n",
        "                else:\n",
        "                    lps[i] = 0\n",
        "                    i += 1\n",
        "        return lps\n",
        "    lps = compute_lps(pattern)\n",
        "    i = 0\n",
        "    j = 0\n",
        "    while i < len(text):\n",
        "        if pattern[j] == text[i]:\n",
        "            i += 1\n",
        "            j += 1\n",
        "        if j == len(pattern):\n",
        "            print(f\"Pattern found at index {i - j}\")\n",
        "            j = lps[j - 1]\n",
        "        elif i < len(text) and pattern[j] != text[i]:\n",
        "            if j != 0:\n",
        "                j = lps[j - 1]\n",
        "            else:\n",
        "                i += 1\n",
        "text = \"ABABDABACDABABCABAB\"\n",
        "pattern = \"ABABCABAB\"\n",
        "kmp_search(text, pattern)"
      ],
      "metadata": {
        "colab": {
          "base_uri": "https://localhost:8080/"
        },
        "id": "uNn3uQeaCIsW",
        "outputId": "73ea4536-0cc3-40b3-f701-c80470889ba2"
      },
      "execution_count": 31,
      "outputs": [
        {
          "output_type": "stream",
          "name": "stdout",
          "text": [
            "Pattern found at index 10\n"
          ]
        }
      ]
    },
    {
      "cell_type": "markdown",
      "source": [
        "#Implement a function for the Levenshtein distance"
      ],
      "metadata": {
        "id": "YLpAxhySCVxE"
      }
    },
    {
      "cell_type": "code",
      "source": [
        "def levenshtein_distance(str1, str2):\n",
        "    m, n = len(str1), len(str2)\n",
        "    dp = [[0] * (n + 1) for _ in range(m + 1)]\n",
        "    for i in range(m + 1):\n",
        "        for j in range(n + 1):\n",
        "            if i == 0:\n",
        "                dp[i][j] = j\n",
        "            elif j == 0:\n",
        "                dp[i][j] = i\n",
        "            elif str1[i - 1] == str2[j - 1]:\n",
        "                dp[i][j] = dp[i - 1][j - 1]\n",
        "            else:\n",
        "                dp[i][j] = 1 + min(dp[i - 1][j - 1], dp[i - 1][j], dp[i][j - 1])\n",
        "    return dp[m][n]\n",
        "str1 = \"kitten\"\n",
        "str2 = \"sitting\"\n",
        "print(levenshtein_distance(str1, str2))"
      ],
      "metadata": {
        "colab": {
          "base_uri": "https://localhost:8080/"
        },
        "id": "yjR4EWPsCXNG",
        "outputId": "4479eed7-0741-44bd-8de2-a673a08dde67"
      },
      "execution_count": 32,
      "outputs": [
        {
          "output_type": "stream",
          "name": "stdout",
          "text": [
            "3\n"
          ]
        }
      ]
    },
    {
      "cell_type": "markdown",
      "source": [
        "# Find the maximum path sum in a binary tree"
      ],
      "metadata": {
        "id": "9RBi27Z8CgVb"
      }
    },
    {
      "cell_type": "code",
      "source": [
        "class TreeNode:\n",
        "    def __init__(self, val=0, left=None, right=None):\n",
        "        self.val = val\n",
        "        self.left = left\n",
        "        self.right = right\n",
        "def max_path_sum(root):\n",
        "    def helper(node):\n",
        "        nonlocal max_sum\n",
        "        if not node:\n",
        "            return 0\n",
        "        left = max(helper(node.left), 0)\n",
        "        right = max(helper(node.right), 0)\n",
        "        max_sum = max(max_sum, left + right + node.val)\n",
        "        return max(left, right) + node.val\n",
        "    max_sum = float('-inf')\n",
        "    helper(root)\n",
        "    return max_sum\n",
        "root = TreeNode(1)\n",
        "root.left = TreeNode(2)\n",
        "root.right = TreeNode(3)\n",
        "print(max_path_sum(root))"
      ],
      "metadata": {
        "colab": {
          "base_uri": "https://localhost:8080/"
        },
        "id": "jWX9C87qCjb-",
        "outputId": "17a25223-585e-43b7-df57-2046e694c28c"
      },
      "execution_count": 33,
      "outputs": [
        {
          "output_type": "stream",
          "name": "stdout",
          "text": [
            "6\n"
          ]
        }
      ]
    },
    {
      "cell_type": "markdown",
      "source": [
        "#Find the longest path in a matrix"
      ],
      "metadata": {
        "id": "Y3_drYsECsQP"
      }
    },
    {
      "cell_type": "code",
      "source": [
        "def longest_path(matrix):\n",
        "    rows, cols = len(matrix), len(matrix[0])\n",
        "    dp = [[-1] * cols for _ in range(rows)]\n",
        "    def dfs(i, j):\n",
        "        if dp[i][j] != -1:\n",
        "            return dp[i][j]\n",
        "        max_path = 1\n",
        "        for x, y in [(0, 1), (1, 0), (0, -1), (-1, 0)]:\n",
        "            new_i, new_j = i + x, j + y\n",
        "            if 0 <= new_i < rows and 0 <= new_j < cols and matrix[new_i][new_j] > matrix[i][j]:\n",
        "                max_path = max(max_path, 1 + dfs(new_i, new_j))\n",
        "        dp[i][j] = max_path\n",
        "        return dp[i][j]\n",
        "    longest = 0\n",
        "    for i in range(rows):\n",
        "        for j in range(cols):\n",
        "            longest = max(longest, dfs(i, j))\n",
        "    return longest\n",
        "matrix = [\n",
        "    [1, 2, 9],\n",
        "    [5, 3, 8],\n",
        "    [4, 6, 7]\n",
        "]\n",
        "print(longest_path(matrix))"
      ],
      "metadata": {
        "colab": {
          "base_uri": "https://localhost:8080/"
        },
        "id": "k64fzEEyCuxn",
        "outputId": "39545bbd-ac40-4a62-e860-1c2cca1c7af7"
      },
      "execution_count": 34,
      "outputs": [
        {
          "output_type": "stream",
          "name": "stdout",
          "text": [
            "7\n"
          ]
        }
      ]
    },
    {
      "cell_type": "markdown",
      "source": [
        " #Implement backtracking for Sudoku solver"
      ],
      "metadata": {
        "id": "VPVpFBQIC9LF"
      }
    },
    {
      "cell_type": "code",
      "source": [
        "def solve_sudoku(board):\n",
        "    def is_valid(board, row, col, num):\n",
        "        for i in range(9):\n",
        "            if board[row][i] == num or board[i][col] == num:\n",
        "                return False\n",
        "        start_row, start_col = 3 * (row // 3), 3 * (col // 3)\n",
        "        for i in range(start_row, start_row + 3):\n",
        "            for j in range(start_col, start_col + 3):\n",
        "                if board[i][j] == num:\n",
        "                    return False\n",
        "        return True\n",
        "    def solve(board):\n",
        "        for row in range(9):\n",
        "            for col in range(9):\n",
        "                if board[row][col] == '.':\n",
        "                    for num in '123456789':\n",
        "                        if is_valid(board, row, col, num):\n",
        "                            board[row][col] = num\n",
        "                            if solve(board):\n",
        "                                return True\n",
        "                            board[row][col] = '.'\n",
        "                    return False\n",
        "        return True\n",
        "    solve(board)\n",
        "board = [\n",
        "    [\"5\", \"3\", \".\", \".\", \"7\", \".\", \".\", \".\", \".\"],\n",
        "    [\"6\", \".\", \".\", \"1\", \"9\", \"5\", \".\", \".\", \".\"],\n",
        "    [\".\", \"9\", \"8\", \".\", \".\", \".\", \".\", \"6\", \".\"],\n",
        "    [\"8\", \".\", \".\", \".\", \"6\", \".\", \".\", \".\", \"3\"],\n",
        "    [\"4\", \".\", \".\", \"8\", \".\", \"3\", \".\", \".\", \"1\"],\n",
        "    [\"7\", \".\", \".\", \".\", \"2\", \".\", \".\", \".\", \"6\"],\n",
        "    [\".\", \"6\", \".\", \".\", \".\", \".\", \"2\", \"8\", \".\"],\n",
        "    [\".\", \".\", \".\", \"4\", \"1\", \"9\", \".\", \".\", \"5\"],\n",
        "    [\".\", \".\", \".\", \".\", \"8\", \".\", \".\", \"7\", \"9\"]\n",
        "]\n",
        "solve_sudoku(board)\n",
        "for row in board:\n",
        "    print(row)"
      ],
      "metadata": {
        "colab": {
          "base_uri": "https://localhost:8080/"
        },
        "id": "ozPpd5g2DBnE",
        "outputId": "2d451036-7fec-44a1-9bef-586067ace405"
      },
      "execution_count": 35,
      "outputs": [
        {
          "output_type": "stream",
          "name": "stdout",
          "text": [
            "['5', '3', '4', '6', '7', '8', '9', '1', '2']\n",
            "['6', '7', '2', '1', '9', '5', '3', '4', '8']\n",
            "['1', '9', '8', '3', '4', '2', '5', '6', '7']\n",
            "['8', '5', '9', '7', '6', '1', '4', '2', '3']\n",
            "['4', '2', '6', '8', '5', '3', '7', '9', '1']\n",
            "['7', '1', '3', '9', '2', '4', '8', '5', '6']\n",
            "['9', '6', '1', '5', '3', '7', '2', '8', '4']\n",
            "['2', '8', '7', '4', '1', '9', '6', '3', '5']\n",
            "['3', '4', '5', '2', '8', '6', '1', '7', '9']\n"
          ]
        }
      ]
    },
    {
      "cell_type": "markdown",
      "source": [
        "#Implement a MinStack"
      ],
      "metadata": {
        "id": "QsWKbDx6DLjp"
      }
    },
    {
      "cell_type": "code",
      "source": [
        "class MinStack:\n",
        "    def __init__(self):\n",
        "        self.stack = []\n",
        "        self.min_stack = []\n",
        "    def push(self, val):\n",
        "        self.stack.append(val)\n",
        "        if not self.min_stack or val <= self.min_stack[-1]:\n",
        "            self.min_stack.append(val)\n",
        "    def pop(self):\n",
        "        if self.stack:\n",
        "            popped = self.stack.pop()\n",
        "            if popped == self.min_stack[-1]:\n",
        "                self.min_stack.pop()\n",
        "    def top(self):\n",
        "        if self.stack:\n",
        "            return self.stack[-1]\n",
        "    def get_min(self):\n",
        "        if self.min_stack:\n",
        "            return self.min_stack[-1]\n",
        "min_stack = MinStack()\n",
        "min_stack.push(-2)\n",
        "min_stack.push(0)\n",
        "min_stack.push(-3)\n",
        "print(min_stack.get_min())\n",
        "min_stack.pop()\n",
        "print(min_stack.top())\n",
        "print(min_stack.get_min())"
      ],
      "metadata": {
        "colab": {
          "base_uri": "https://localhost:8080/"
        },
        "id": "tttTYuphDOmb",
        "outputId": "62be2ece-3909-46c2-a5f7-ef6dfaa9e5bf"
      },
      "execution_count": 36,
      "outputs": [
        {
          "output_type": "stream",
          "name": "stdout",
          "text": [
            "-3\n",
            "0\n",
            "-2\n"
          ]
        }
      ]
    },
    {
      "cell_type": "markdown",
      "source": [
        "#Solve the meeting rooms problem"
      ],
      "metadata": {
        "id": "MoHoTHcfDbVa"
      }
    },
    {
      "cell_type": "code",
      "source": [
        "def can_attend_meetings(intervals):\n",
        "    intervals.sort(key=lambda x: x[0])\n",
        "    for i in range(1, len(intervals)):\n",
        "        if intervals[i][0] < intervals[i - 1][1]:\n",
        "            return False\n",
        "    return True\n",
        "intervals = [[0, 30], [5, 10], [15, 20]]\n",
        "print(can_attend_meetings(intervals))"
      ],
      "metadata": {
        "colab": {
          "base_uri": "https://localhost:8080/"
        },
        "id": "V9gvGVYaDeqf",
        "outputId": "f3de79a2-eb66-4847-ce60-fdc62eaf053c"
      },
      "execution_count": 37,
      "outputs": [
        {
          "output_type": "stream",
          "name": "stdout",
          "text": [
            "False\n"
          ]
        }
      ]
    },
    {
      "cell_type": "markdown",
      "source": [
        "#Find the minimum window substring"
      ],
      "metadata": {
        "id": "K-go_FY0Dpuc"
      }
    },
    {
      "cell_type": "code",
      "source": [
        "from collections import Counter\n",
        "def min_window(s, t):\n",
        "    if not s or not t:\n",
        "        return \"\"\n",
        "    target = Counter(t)\n",
        "    window = Counter()\n",
        "    left, right = 0, 0\n",
        "    min_len = float('inf')\n",
        "    min_substr = \"\"\n",
        "    formed = 0\n",
        "    required = len(target)\n",
        "    while right < len(s):\n",
        "        window[s[right]] += 1\n",
        "        if window[s[right]] == target[s[right]]:\n",
        "            formed += 1\n",
        "        while left <= right and formed == required:\n",
        "            if right - left + 1 < min_len:\n",
        "                min_len = right - left + 1\n",
        "                min_substr = s[left:right + 1]\n",
        "            window[s[left]] -= 1\n",
        "            if window[s[left]] < target[s[left]]:\n",
        "                formed -= 1\n",
        "            left += 1\n",
        "        right += 1\n",
        "    return min_substr\n",
        "s = \"ADOBECODEBANC\"\n",
        "t = \"ABC\"\n",
        "print(min_window(s, t))"
      ],
      "metadata": {
        "colab": {
          "base_uri": "https://localhost:8080/"
        },
        "id": "y5MuopP5Ds4u",
        "outputId": "255ef47f-9ad7-4dec-86f0-d81174deb677"
      },
      "execution_count": 38,
      "outputs": [
        {
          "output_type": "stream",
          "name": "stdout",
          "text": [
            "BANC\n"
          ]
        }
      ]
    },
    {
      "cell_type": "markdown",
      "source": [
        "#Group anagrams together"
      ],
      "metadata": {
        "id": "_NOBDiWAD2ur"
      }
    },
    {
      "cell_type": "code",
      "source": [
        "from collections import defaultdict\n",
        "def group_anagrams(strs):\n",
        "    anagram_groups = defaultdict(list)\n",
        "    for word in strs:\n",
        "        sorted_word = ''.join(sorted(word))\n",
        "        anagram_groups[sorted_word].append(word)\n",
        "    return list(anagram_groups.values())\n",
        "strs = [\"eat\", \"tea\", \"tan\", \"ate\", \"nat\", \"bat\"]\n",
        "print(group_anagrams(strs))"
      ],
      "metadata": {
        "colab": {
          "base_uri": "https://localhost:8080/"
        },
        "id": "3YmDNVh5D82G",
        "outputId": "a18dd32d-bd2a-41f8-aa04-5c312184f3df"
      },
      "execution_count": 39,
      "outputs": [
        {
          "output_type": "stream",
          "name": "stdout",
          "text": [
            "[['eat', 'tea', 'ate'], ['tan', 'nat'], ['bat']]\n"
          ]
        }
      ]
    },
    {
      "cell_type": "markdown",
      "source": [
        "#Find all permutations of an array\n"
      ],
      "metadata": {
        "id": "9k-Em7FLEOLY"
      }
    },
    {
      "cell_type": "code",
      "source": [
        "def permute(nums):\n",
        "    result = []\n",
        "    def backtrack(start=0):\n",
        "        if start == len(nums):\n",
        "            result.append(nums[:])\n",
        "            return\n",
        "        for i in range(start, len(nums)):\n",
        "            nums[start], nums[i] = nums[i], nums[start]\n",
        "            backtrack(start + 1)\n",
        "            nums[start], nums[i] = nums[i], nums[start]\n",
        "    backtrack()\n",
        "    return result\n",
        "nums = [1, 2, 3]\n",
        "print(permute(nums))"
      ],
      "metadata": {
        "colab": {
          "base_uri": "https://localhost:8080/"
        },
        "id": "wWmRlXv0ESHH",
        "outputId": "8c769d86-446b-497a-fdf1-dbe938958290"
      },
      "execution_count": 40,
      "outputs": [
        {
          "output_type": "stream",
          "name": "stdout",
          "text": [
            "[[1, 2, 3], [1, 3, 2], [2, 1, 3], [2, 3, 1], [3, 2, 1], [3, 1, 2]]\n"
          ]
        }
      ]
    },
    {
      "cell_type": "markdown",
      "source": [
        "#Implement a priority queue"
      ],
      "metadata": {
        "id": "tUEOvHAdEZw_"
      }
    },
    {
      "cell_type": "code",
      "source": [
        "import heapq\n",
        "class PriorityQueue:\n",
        "    def __init__(self):\n",
        "        self.heap = []\n",
        "    def push(self, val):\n",
        "        heapq.heappush(self.heap, val)\n",
        "    def pop(self):\n",
        "        if self.heap:\n",
        "            return heapq.heappop(self.heap)\n",
        "        return None\n",
        "    def peek(self):\n",
        "        if self.heap:\n",
        "            return self.heap[0]\n",
        "        return None\n",
        "    def is_empty(self):\n",
        "        return len(self.heap) == 0\n",
        "pq = PriorityQueue()\n",
        "pq.push(3)\n",
        "pq.push(1)\n",
        "pq.push(2)\n",
        "print(pq.pop())"
      ],
      "metadata": {
        "colab": {
          "base_uri": "https://localhost:8080/"
        },
        "id": "Lp_ZfT0kEc7g",
        "outputId": "ba08a7c1-34c3-4b4a-a255-9a7e54971792"
      },
      "execution_count": 41,
      "outputs": [
        {
          "output_type": "stream",
          "name": "stdout",
          "text": [
            "1\n"
          ]
        }
      ]
    },
    {
      "cell_type": "markdown",
      "source": [
        "#Merge k sorted linked lists"
      ],
      "metadata": {
        "id": "cHcjbJN9Elep"
      }
    },
    {
      "cell_type": "code",
      "source": [
        "import heapq\n",
        "class ListNode:\n",
        "    def __init__(self, val=0, next=None):\n",
        "        self.val = val\n",
        "        self.next = next\n",
        "    def __lt__(self, other):\n",
        "        return self.val < other.val\n",
        "def merge_k_lists(lists):\n",
        "    heap = []\n",
        "    for i, l in enumerate(lists):\n",
        "        if l:\n",
        "            heapq.heappush(heap, (l.val, i, l))\n",
        "    dummy = ListNode()\n",
        "    current = dummy\n",
        "    while heap:\n",
        "        _, i, node = heapq.heappop(heap)\n",
        "        current.next = node\n",
        "        current = current.next\n",
        "        if node.next:\n",
        "            heapq.heappush(heap, (node.next.val, i, node.next))\n",
        "    return dummy.next\n",
        "list1 = ListNode(1, ListNode(4, ListNode(5)))\n",
        "list2 = ListNode(1, ListNode(3, ListNode(4)))\n",
        "list3 = ListNode(2, ListNode(6))\n",
        "lists = [list1, list2, list3]\n",
        "merged_list = merge_k_lists(lists)\n",
        "while merged_list:\n",
        "    print(merged_list.val, end=\" -> \")\n",
        "    merged_list = merged_list.next"
      ],
      "metadata": {
        "colab": {
          "base_uri": "https://localhost:8080/"
        },
        "id": "_RU9uEoJEomX",
        "outputId": "88705bb8-9d96-4b98-ae9e-ab1ec0db0276"
      },
      "execution_count": 42,
      "outputs": [
        {
          "output_type": "stream",
          "name": "stdout",
          "text": [
            "1 -> 1 -> 2 -> 3 -> 4 -> 4 -> 5 -> 6 -> "
          ]
        }
      ]
    },
    {
      "cell_type": "markdown",
      "source": [
        "#Find the median of a data stream"
      ],
      "metadata": {
        "id": "DAEVRjCxE0el"
      }
    },
    {
      "cell_type": "code",
      "source": [
        "import heapq\n",
        "class MedianFinder:\n",
        "    def __init__(self):\n",
        "        self.min_heap = []\n",
        "        self.max_heap = []\n",
        "    def add_num(self, num):\n",
        "        heapq.heappush(self.min_heap, num)\n",
        "        if len(self.min_heap) > len(self.max_heap) + 1:\n",
        "            heapq.heappush(self.max_heap, -heapq.heappop(self.min_heap))\n",
        "        if self.min_heap and self.max_heap and -self.max_heap[0] > self.min_heap[0]:\n",
        "            heapq.heappush(self.min_heap, -heapq.heappop(self.max_heap))\n",
        "            heapq.heappush(self.max_heap, -self.min_heap[0])\n",
        "    def find_median(self):\n",
        "        if len(self.min_heap) > len(self.max_heap):\n",
        "            return self.min_heap[0]\n",
        "        return (self.min_heap[0] - self.max_heap[0]) / 2\n",
        "median_finder = MedianFinder()\n",
        "median_finder.add_num(1)\n",
        "median_finder.add_num(2)\n",
        "print(median_finder.find_median())\n",
        "median_finder.add_num(3)\n",
        "print(median_finder.find_median())"
      ],
      "metadata": {
        "colab": {
          "base_uri": "https://localhost:8080/"
        },
        "id": "DI8Ux3u_E1-0",
        "outputId": "29ad45d6-53a5-432f-9500-fe6d090e339f"
      },
      "execution_count": 43,
      "outputs": [
        {
          "output_type": "stream",
          "name": "stdout",
          "text": [
            "1.5\n",
            "2\n"
          ]
        }
      ]
    },
    {
      "cell_type": "markdown",
      "source": [
        "#Decode a string encoded as counts"
      ],
      "metadata": {
        "id": "kYolADQvFCC2"
      }
    },
    {
      "cell_type": "code",
      "source": [
        "def decode_string(s):\n",
        "    stack = []\n",
        "    current_string = \"\"\n",
        "    current_num = 0\n",
        "    for char in s:\n",
        "        if char.isdigit():\n",
        "            current_num = current_num * 10 + int(char)\n",
        "        elif char == '[':\n",
        "            stack.append((current_string, current_num))\n",
        "            current_string = \"\"\n",
        "            current_num = 0\n",
        "        elif char == ']':\n",
        "            last_string, repeat_times = stack.pop()\n",
        "            current_string = last_string + current_string * repeat_times\n",
        "        else:\n",
        "            current_string += char\n",
        "    return current_string\n",
        "s = \"3[a2[c]]\"\n",
        "print(decode_string(s))"
      ],
      "metadata": {
        "colab": {
          "base_uri": "https://localhost:8080/"
        },
        "id": "LNjqIv3pFFtQ",
        "outputId": "bc1622a9-8f50-4ed3-b842-020688b757aa"
      },
      "execution_count": 44,
      "outputs": [
        {
          "output_type": "stream",
          "name": "stdout",
          "text": [
            "accaccacc\n"
          ]
        }
      ]
    },
    {
      "cell_type": "markdown",
      "source": [
        "#Find the longest substring without repeating characters"
      ],
      "metadata": {
        "id": "5w78GAgIFIMV"
      }
    },
    {
      "cell_type": "code",
      "source": [
        "def length_of_longest_substring(s):\n",
        "    char_set = set()\n",
        "    left = 0\n",
        "    max_len = 0\n",
        "    for right in range(len(s)):\n",
        "        while s[right] in char_set:\n",
        "            char_set.remove(s[left])\n",
        "            left += 1\n",
        "        char_set.add(s[right])\n",
        "        max_len = max(max_len, right - left + 1)\n",
        "    return max_len\n",
        "s = \"abcabcbb\"\n",
        "print(length_of_longest_substring(s))"
      ],
      "metadata": {
        "colab": {
          "base_uri": "https://localhost:8080/"
        },
        "id": "k5JBW5QAFU5d",
        "outputId": "1b8aaa61-a401-44eb-e1af-ca917b59ba8b"
      },
      "execution_count": 45,
      "outputs": [
        {
          "output_type": "stream",
          "name": "stdout",
          "text": [
            "3\n"
          ]
        }
      ]
    },
    {
      "cell_type": "markdown",
      "source": [
        "#Check if a Sudoku solution is valid"
      ],
      "metadata": {
        "id": "cMYHbszzFcFX"
      }
    },
    {
      "cell_type": "code",
      "source": [
        "def is_valid_sudoku(board):\n",
        "    for i in range(9):\n",
        "        row = set()\n",
        "        col = set()\n",
        "        for j in range(9):\n",
        "            if board[i][j] != '.' and board[i][j] in row:\n",
        "                return False\n",
        "            if board[j][i] != '.' and board[j][i] in col:\n",
        "                return False\n",
        "            row.add(board[i][j])\n",
        "            col.add(board[j][i])\n",
        "        for x in range(i // 3 * 3, (i // 3 + 1) * 3):\n",
        "            for y in range(i % 3 * 3, (i % 3 + 1) * 3):\n",
        "                if board[x][y] != '.' and board[x][y] in row:\n",
        "                    return False\n",
        "    return True\n",
        "board = [\n",
        "    ['5', '3', '.', '.', '7', '.', '.', '.', '.'],\n",
        "    ['6', '.', '.', '1', '9', '5', '.', '.', '.'],\n",
        "    ['.', '9', '8', '.', '.', '.', '.', '6', '.'],\n",
        "    ['8', '.', '.', '8', '.', '6', '.', '.', '3'],\n",
        "    ['4', '.', '.', '8', '.', '3', '.', '.', '1'],\n",
        "    ['7', '.', '.', '.', '2', '1', '6', '.', '9'],\n",
        "    ['.', '6', '.', '.', '9', '.', '7', '.', '.'],\n",
        "    ['.', '5', '.', '.', '8', '.', '9', '7', '.'],\n",
        "    ['9', '.', '1', '2', '.', '7', '.', '8', '6']\n",
        "]\n",
        "print(is_valid_sudoku(board))"
      ],
      "metadata": {
        "colab": {
          "base_uri": "https://localhost:8080/"
        },
        "id": "qX7zwxPkFhG0",
        "outputId": "c57d1dd2-a8f4-4e3e-e5e7-5f3d207de64c"
      },
      "execution_count": 1,
      "outputs": [
        {
          "output_type": "stream",
          "name": "stdout",
          "text": [
            "False\n"
          ]
        }
      ]
    },
    {
      "cell_type": "markdown",
      "source": [
        "#Implement regular expression matching"
      ],
      "metadata": {
        "id": "1Y6Y82cYGFxT"
      }
    },
    {
      "cell_type": "code",
      "source": [
        "def is_match(s, p):\n",
        "    if not p:\n",
        "        return not s\n",
        "    first_match = bool(s) and (p[0] == s[0] or p[0] == '.')\n",
        "    if len(p) >= 2 and p[1] == '*':\n",
        "        return (is_match(s, p[2:]) or\n",
        "                first_match and is_match(s[1:], p))\n",
        "    else:\n",
        "        return first_match and is_match(s[1:], p[1:])\n",
        "s = \"aa\"\n",
        "p = \"a*\"\n",
        "print(is_match(s, p))"
      ],
      "metadata": {
        "colab": {
          "base_uri": "https://localhost:8080/"
        },
        "id": "WeeWSoWTGI4e",
        "outputId": "65909c4e-81e9-4f31-8756-04595ee00a8f"
      },
      "execution_count": 2,
      "outputs": [
        {
          "output_type": "stream",
          "name": "stdout",
          "text": [
            "True\n"
          ]
        }
      ]
    },
    {
      "cell_type": "markdown",
      "source": [
        "#Implement wildcard matching"
      ],
      "metadata": {
        "id": "I5DqsUQDGO--"
      }
    },
    {
      "cell_type": "code",
      "source": [
        "def is_wildcard_match(s, p):\n",
        "    m, n = len(s), len(p)\n",
        "    dp = [[False] * (n + 1) for _ in range(m + 1)]\n",
        "    dp[0][0] = True\n",
        "    for j in range(1, n + 1):\n",
        "        if p[j - 1] == '*':\n",
        "            dp[0][j] = dp[0][j - 1]\n",
        "    for i in range(1, m + 1):\n",
        "        for j in range(1, n + 1):\n",
        "            if p[j - 1] == s[i - 1] or p[j - 1] == '?':\n",
        "                dp[i][j] = dp[i - 1][j - 1]\n",
        "            elif p[j - 1] == '*':\n",
        "                dp[i][j] = dp[i - 1][j] or dp[i][j - 1]\n",
        "    return dp[m][n]\n",
        "s = \"adceb\"\n",
        "p = \"*a*b\"\n",
        "print(is_wildcard_match(s, p))"
      ],
      "metadata": {
        "colab": {
          "base_uri": "https://localhost:8080/"
        },
        "id": "68rqH5uhGRaU",
        "outputId": "7efcfc96-c96f-40d2-c8b3-a74e665bf9d6"
      },
      "execution_count": 3,
      "outputs": [
        {
          "output_type": "stream",
          "name": "stdout",
          "text": [
            "True\n"
          ]
        }
      ]
    },
    {
      "cell_type": "markdown",
      "source": [
        "#Find the minimum path sum in a grid"
      ],
      "metadata": {
        "id": "Y67A_VisGdSR"
      }
    },
    {
      "cell_type": "code",
      "source": [
        "def min_path_sum(grid):\n",
        "    if not grid:\n",
        "        return 0\n",
        "    m, n = len(grid), len(grid[0])\n",
        "    for i in range(1, m):\n",
        "        grid[i][0] += grid[i - 1][0]\n",
        "    for j in range(1, n):\n",
        "        grid[0][j] += grid[0][j - 1]\n",
        "    for i in range(1, m):\n",
        "        for j in range(1, n):\n",
        "            grid[i][j] += min(grid[i - 1][j], grid[i][j - 1])\n",
        "    return grid[m - 1][n - 1]\n",
        "grid = [\n",
        "    [1, 3, 1],\n",
        "    [1, 5, 1],\n",
        "    [4, 2, 1]\n",
        "]\n",
        "print(min_path_sum(grid))"
      ],
      "metadata": {
        "colab": {
          "base_uri": "https://localhost:8080/"
        },
        "id": "S-9FEspTGhJO",
        "outputId": "6824a097-25c3-4e64-fc0a-bc5c7fdc0e95"
      },
      "execution_count": 4,
      "outputs": [
        {
          "output_type": "stream",
          "name": "stdout",
          "text": [
            "7\n"
          ]
        }
      ]
    },
    {
      "cell_type": "markdown",
      "source": [
        "#Rotate an image represented by a matrix"
      ],
      "metadata": {
        "id": "Da1T75dtGpvR"
      }
    },
    {
      "cell_type": "code",
      "source": [
        "def rotate(matrix):\n",
        "    n = len(matrix)\n",
        "    for i in range(n):\n",
        "        for j in range(i, n):\n",
        "            matrix[i][j], matrix[j][i] = matrix[j][i], matrix[i][j]\n",
        "    for row in matrix:\n",
        "        row.reverse()\n",
        "matrix = [\n",
        "    [1, 2, 3],\n",
        "    [4, 5, 6],\n",
        "    [7, 8, 9]\n",
        "]\n",
        "rotate(matrix)\n",
        "for row in matrix:\n",
        "    print(row)"
      ],
      "metadata": {
        "colab": {
          "base_uri": "https://localhost:8080/"
        },
        "id": "mVl3ImEKGtu0",
        "outputId": "a7c6f43f-f8f3-42f8-8791-6a47b151b370"
      },
      "execution_count": 5,
      "outputs": [
        {
          "output_type": "stream",
          "name": "stdout",
          "text": [
            "[7, 4, 1]\n",
            "[8, 5, 2]\n",
            "[9, 6, 3]\n"
          ]
        }
      ]
    },
    {
      "cell_type": "markdown",
      "source": [
        "#Spiral order traversal of a matrix"
      ],
      "metadata": {
        "id": "hAAQiFVnG06a"
      }
    },
    {
      "cell_type": "code",
      "source": [
        "def spiral_order(matrix):\n",
        "    result = []\n",
        "    while matrix:\n",
        "        result += matrix.pop(0)\n",
        "        if matrix and matrix[0]:\n",
        "            for row in matrix:\n",
        "                result.append(row.pop())\n",
        "        if matrix:\n",
        "            result += matrix.pop()[::-1]\n",
        "        if matrix and matrix[0]:\n",
        "            for row in matrix[::-1]:\n",
        "                result.append(row.pop(0))\n",
        "    return result\n",
        "matrix = [\n",
        "    [1, 2, 3],\n",
        "    [4, 5, 6],\n",
        "    [7, 8, 9]\n",
        "]\n",
        "print(spiral_order(matrix))"
      ],
      "metadata": {
        "colab": {
          "base_uri": "https://localhost:8080/"
        },
        "id": "d899EmZ8G4Pv",
        "outputId": "92e79213-2494-4674-e4e8-d126630e58d5"
      },
      "execution_count": 6,
      "outputs": [
        {
          "output_type": "stream",
          "name": "stdout",
          "text": [
            "[1, 2, 3, 6, 9, 8, 7, 4, 5]\n"
          ]
        }
      ]
    },
    {
      "cell_type": "markdown",
      "source": [
        "#Search a 2D matrix"
      ],
      "metadata": {
        "id": "gDIg7YUZHAOz"
      }
    },
    {
      "cell_type": "code",
      "source": [
        "def search_matrix(matrix, target):\n",
        "    if not matrix:\n",
        "        return False\n",
        "    rows, cols = len(matrix), len(matrix[0])\n",
        "    i, j = 0, cols - 1\n",
        "    while i < rows and j >= 0:\n",
        "        if matrix[i][j] == target:\n",
        "            return True\n",
        "        elif matrix[i][j] > target:\n",
        "            j -= 1\n",
        "        else:\n",
        "            i += 1\n",
        "    return False\n",
        "matrix = [\n",
        "    [1, 4, 7, 11],\n",
        "    [2, 5, 8, 12],\n",
        "    [3, 6, 9, 16]\n",
        "]\n",
        "target = 5\n",
        "print(search_matrix(matrix, target))"
      ],
      "metadata": {
        "colab": {
          "base_uri": "https://localhost:8080/"
        },
        "id": "ySOkF_QCHDB9",
        "outputId": "27501611-99ef-4186-bfb1-017a1ace5104"
      },
      "execution_count": 7,
      "outputs": [
        {
          "output_type": "stream",
          "name": "stdout",
          "text": [
            "True\n"
          ]
        }
      ]
    },
    {
      "cell_type": "markdown",
      "source": [
        "#Solve N-Queens problem"
      ],
      "metadata": {
        "id": "gw-FrIv0HLrz"
      }
    },
    {
      "cell_type": "code",
      "source": [
        "def solve_n_queens(n):\n",
        "    def is_valid(board, row, col):\n",
        "        for i in range(row):\n",
        "            if board[i] == col or \\\n",
        "               board[i] - i == col - row or \\\n",
        "               board[i] + i == col + row:\n",
        "                return False\n",
        "        return True\n",
        "    def solve(row, board):\n",
        "        if row == n:\n",
        "            solutions.append([\".\" * i + \"Q\" + \".\" * (n - i - 1) for i in board])\n",
        "            return\n",
        "        for col in range(n):\n",
        "            if is_valid(board, row, col):\n",
        "                solve(row + 1, board + [col])\n",
        "    solutions = []\n",
        "    solve(0, [])\n",
        "    return solutions\n",
        "n = 4\n",
        "print(solve_n_queens(n))"
      ],
      "metadata": {
        "colab": {
          "base_uri": "https://localhost:8080/"
        },
        "id": "36GQsAPvHPXy",
        "outputId": "9ba5bf28-9325-4cd9-d3d3-d94901948b85"
      },
      "execution_count": 8,
      "outputs": [
        {
          "output_type": "stream",
          "name": "stdout",
          "text": [
            "[['.Q..', '...Q', 'Q...', '..Q.'], ['..Q.', 'Q...', '...Q', '.Q..']]\n"
          ]
        }
      ]
    },
    {
      "cell_type": "markdown",
      "source": [
        "#Find the largest rectangle in a histogram"
      ],
      "metadata": {
        "id": "cB4IoAu8HbYH"
      }
    },
    {
      "cell_type": "code",
      "source": [
        "def largest_rectangle_area(heights):\n",
        "    stack = []\n",
        "    max_area = 0\n",
        "    heights.append(0)\n",
        "    for i in range(len(heights)):\n",
        "        while stack and heights[i] < heights[stack[-1]]:\n",
        "            h = heights[stack.pop()]\n",
        "            w = i if not stack else i - stack[-1] - 1\n",
        "            max_area = max(max_area, h * w)\n",
        "        stack.append(i)\n",
        "    return max_area\n",
        "heights = [2, 1, 5, 6, 2, 3]\n",
        "print(largest_rectangle_area(heights))"
      ],
      "metadata": {
        "colab": {
          "base_uri": "https://localhost:8080/"
        },
        "id": "rEI-l5KiHeR6",
        "outputId": "1a2bb336-5262-495f-fced-3fde7afc627a"
      },
      "execution_count": 9,
      "outputs": [
        {
          "output_type": "stream",
          "name": "stdout",
          "text": [
            "10\n"
          ]
        }
      ]
    },
    {
      "cell_type": "markdown",
      "source": [
        "#Find the maximum path sum in a binary tree"
      ],
      "metadata": {
        "id": "vNWiN1CqHmBV"
      }
    },
    {
      "cell_type": "code",
      "source": [
        "class TreeNode:\n",
        "    def __init__(self, value=0, left=None, right=None):\n",
        "        self.value = value\n",
        "        self.left = left\n",
        "        self.right = right\n",
        "def max_path_sum(root):\n",
        "    def helper(node):\n",
        "        if not node:\n",
        "            return 0\n",
        "        left = max(helper(node.left), 0)\n",
        "        right = max(helper(node.right), 0)\n",
        "        current_max = node.value + left + right\n",
        "        max_path_sum[0] = max(max_path_sum[0], current_max)\n",
        "        return node.value + max(left, right)\n",
        "    max_path_sum = [float('-inf')]\n",
        "    helper(root)\n",
        "    return max_path_sum[0]\n",
        "root = TreeNode(1)\n",
        "root.left = TreeNode(2)\n",
        "root.right = TreeNode(3)\n",
        "root.left.left = TreeNode(4)\n",
        "root.left.right = TreeNode(5)\n",
        "print(max_path_sum(root))"
      ],
      "metadata": {
        "colab": {
          "base_uri": "https://localhost:8080/"
        },
        "id": "eUqGpiw6KrWl",
        "outputId": "ffdeef55-6c47-4ccb-9578-697f382a3420"
      },
      "execution_count": 10,
      "outputs": [
        {
          "output_type": "stream",
          "name": "stdout",
          "text": [
            "11\n"
          ]
        }
      ]
    },
    {
      "cell_type": "markdown",
      "source": [
        "#Find the longest path in a matrix"
      ],
      "metadata": {
        "id": "JFs4pDVsK4cw"
      }
    },
    {
      "cell_type": "code",
      "source": [
        "def longest_increasing_path(matrix):\n",
        "    if not matrix:\n",
        "        return 0\n",
        "    m, n = len(matrix), len(matrix[0])\n",
        "    memo = {}\n",
        "    def dfs(i, j):\n",
        "        if (i, j) in memo:\n",
        "            return memo[(i, j)]\n",
        "        max_len = 1\n",
        "        for x, y in [(1, 0), (-1, 0), (0, 1), (0, -1)]:\n",
        "            ni, nj = i + x, j + y\n",
        "            if 0 <= ni < m and 0 <= nj < n and matrix[ni][nj] > matrix[i][j]:\n",
        "                max_len = max(max_len, 1 + dfs(ni, nj))\n",
        "        memo[(i, j)] = max_len\n",
        "        return max_len\n",
        "    max_path = 0\n",
        "    for i in range(m):\n",
        "        for j in range(n):\n",
        "            max_path = max(max_path, dfs(i, j))\n",
        "    return max_path\n",
        "matrix = [\n",
        "    [9, 9, 4],\n",
        "    [6, 6, 8],\n",
        "    [2, 1, 1]\n",
        "]\n",
        "print(longest_increasing_path(matrix))"
      ],
      "metadata": {
        "colab": {
          "base_uri": "https://localhost:8080/"
        },
        "id": "KLaw8GtqK7kj",
        "outputId": "7746ca45-f045-43ee-bdbf-95401a678f4e"
      },
      "execution_count": 11,
      "outputs": [
        {
          "output_type": "stream",
          "name": "stdout",
          "text": [
            "4\n"
          ]
        }
      ]
    },
    {
      "cell_type": "markdown",
      "source": [
        "#Find all connected components in a graph"
      ],
      "metadata": {
        "id": "I1nn-716LFvr"
      }
    },
    {
      "cell_type": "code",
      "source": [
        "def connected_components(graph):\n",
        "    def dfs(node, visited, component):\n",
        "        visited.add(node)\n",
        "        component.append(node)\n",
        "        for neighbor in graph[node]:\n",
        "            if neighbor not in visited:\n",
        "                dfs(neighbor, visited, component)\n",
        "    visited = set()\n",
        "    components = []\n",
        "    for node in graph:\n",
        "        if node not in visited:\n",
        "            component = []\n",
        "            dfs(node, visited, component)\n",
        "            components.append(component)\n",
        "    return components\n",
        "graph = {\n",
        "    0: [1, 2],\n",
        "    1: [0, 2],\n",
        "    2: [0, 1],\n",
        "    3: [4],\n",
        "    4: [3]\n",
        "}\n",
        "print(connected_components(graph))"
      ],
      "metadata": {
        "colab": {
          "base_uri": "https://localhost:8080/"
        },
        "id": "5pCOotfwLFTR",
        "outputId": "6bbbbff9-7b70-4072-a443-d69961d106cc"
      },
      "execution_count": 12,
      "outputs": [
        {
          "output_type": "stream",
          "name": "stdout",
          "text": [
            "[[0, 1, 2], [3, 4]]\n"
          ]
        }
      ]
    },
    {
      "cell_type": "markdown",
      "source": [
        "#Check if a graph is bipartite"
      ],
      "metadata": {
        "id": "leFXda1FLWhm"
      }
    },
    {
      "cell_type": "code",
      "source": [
        "from collections import deque\n",
        "def is_bipartite(graph):\n",
        "    color = {}\n",
        "    def bfs(start):\n",
        "        queue = deque([start])\n",
        "        color[start] = 0\n",
        "        while queue:\n",
        "            node = queue.popleft()\n",
        "            for neighbor in graph[node]:\n",
        "                if neighbor not in color:\n",
        "                    color[neighbor] = 1 - color[node]\n",
        "                    queue.append(neighbor)\n",
        "                elif color[neighbor] == color[node]:\n",
        "                    return False\n",
        "        return True\n",
        "    for node in graph:\n",
        "        if node not in color:\n",
        "            if not bfs(node):\n",
        "                return False\n",
        "    return True\n",
        "graph = {\n",
        "    0: [1, 3],\n",
        "    1: [0, 2],\n",
        "    2: [1, 3],\n",
        "    3: [0, 2]\n",
        "}\n",
        "print(is_bipartite(graph))"
      ],
      "metadata": {
        "colab": {
          "base_uri": "https://localhost:8080/"
        },
        "id": "6p-LyhqALYhZ",
        "outputId": "505a9b44-2692-4d7e-f49c-6c27f0378d38"
      },
      "execution_count": 13,
      "outputs": [
        {
          "output_type": "stream",
          "name": "stdout",
          "text": [
            "True\n"
          ]
        }
      ]
    },
    {
      "cell_type": "markdown",
      "source": [
        "# Implement an algorithm for topological sorting"
      ],
      "metadata": {
        "id": "mBqC_EALLsnr"
      }
    },
    {
      "cell_type": "code",
      "source": [
        "from collections import defaultdict, deque\n",
        "\n",
        "def topological_sort(graph):\n",
        "    indegree = defaultdict(int)\n",
        "    for node in graph:\n",
        "        for neighbor in graph[node]:\n",
        "            indegree[neighbor] += 1\n",
        "    queue = deque([node for node in graph if indegree[node] == 0])\n",
        "    sorted_order = []\n",
        "    while queue:\n",
        "        node = queue.popleft()\n",
        "        sorted_order.append(node)\n",
        "        for neighbor in graph[node]:\n",
        "            indegree[neighbor] -= 1\n",
        "            if indegree[neighbor] == 0:\n",
        "                queue.append(neighbor)\n",
        "    return sorted_order if len(sorted_order) == len(graph) else []\n",
        "graph = {\n",
        "    0: [1, 2],\n",
        "    1: [3],\n",
        "    2: [3],\n",
        "    3: []\n",
        "}\n",
        "print(topological_sort(graph))"
      ],
      "metadata": {
        "id": "q66ArviTLur-"
      },
      "execution_count": null,
      "outputs": []
    },
    {
      "cell_type": "markdown",
      "source": [
        "#Generate All Permutations of a String"
      ],
      "metadata": {
        "id": "-GcOq1Z9L1kV"
      }
    },
    {
      "cell_type": "code",
      "source": [
        "def string_permutations(s):\n",
        "    def backtrack(path, used, result):\n",
        "        if len(path) == len(s):\n",
        "            result.append(\"\".join(path))\n",
        "            return\n",
        "        for i in range(len(s)):\n",
        "            if used[i]:\n",
        "                continue\n",
        "            if i > 0 and s[i] == s[i - 1] and not used[i - 1]:\n",
        "                continue\n",
        "            used[i] = True\n",
        "            path.append(s[i])\n",
        "            backtrack(path, used, result)\n",
        "            path.pop()\n",
        "            used[i] = False\n",
        "    result = []\n",
        "    s = sorted(s)\n",
        "    backtrack([], [False] * len(s), result)\n",
        "    return result\n",
        "string = \"abc\"\n",
        "permutations = string_permutations(string)\n",
        "print(permutations)\n"
      ],
      "metadata": {
        "colab": {
          "base_uri": "https://localhost:8080/"
        },
        "id": "O0a2xDY5Qbee",
        "outputId": "713c7310-a58b-47a2-b915-052b3b366cc5"
      },
      "execution_count": 14,
      "outputs": [
        {
          "output_type": "stream",
          "name": "stdout",
          "text": [
            "['abc', 'acb', 'bac', 'bca', 'cab', 'cba']\n"
          ]
        }
      ]
    },
    {
      "cell_type": "markdown",
      "source": [
        "#Implement the Kadane’s algorithm"
      ],
      "metadata": {
        "id": "UtOIEEW5QwE9"
      }
    },
    {
      "cell_type": "code",
      "source": [
        "def max_subarray_sum(nums):\n",
        "    max_current = max_global = nums[0]\n",
        "    for i in range(1, len(nums)):\n",
        "        max_current = max(nums[i], max_current + nums[i])\n",
        "        if max_current > max_global:\n",
        "            max_global = max_current\n",
        "    return max_global\n",
        "nums = [-2, 1, -3, 4, -1, 2, 1, -5, 4]\n",
        "result = max_subarray_sum(nums)\n",
        "print(f\"Maximum Subarray Sum: {result}\")"
      ],
      "metadata": {
        "colab": {
          "base_uri": "https://localhost:8080/"
        },
        "id": "VXLr2DZTQ0FL",
        "outputId": "52550c5a-bbdb-48bf-afb5-b69af3f9fabc"
      },
      "execution_count": 15,
      "outputs": [
        {
          "output_type": "stream",
          "name": "stdout",
          "text": [
            "Maximum Subarray Sum: 6\n"
          ]
        }
      ]
    },
    {
      "cell_type": "markdown",
      "source": [
        "#Check if a Number is Prime"
      ],
      "metadata": {
        "id": "D40-o-M4Q9bV"
      }
    },
    {
      "cell_type": "code",
      "source": [
        "def is_prime(n):\n",
        "    if n <= 1:\n",
        "        return False\n",
        "    if n <= 3:\n",
        "        return True\n",
        "    if n % 2 == 0 or n % 3 == 0:\n",
        "        return False\n",
        "    i = 5\n",
        "    while i * i <= n:\n",
        "        if n % i == 0 or n % (i + 2) == 0:\n",
        "            return False\n",
        "        i += 6\n",
        "    return True\n",
        "num = 29\n",
        "print(f\"Is {num} a prime number? {is_prime(num)}\")"
      ],
      "metadata": {
        "colab": {
          "base_uri": "https://localhost:8080/"
        },
        "id": "y1wqjvL4RAwL",
        "outputId": "69a3bf84-4f34-43b9-a7de-91fa962798e8"
      },
      "execution_count": 16,
      "outputs": [
        {
          "output_type": "stream",
          "name": "stdout",
          "text": [
            "Is 29 a prime number? True\n"
          ]
        }
      ]
    },
    {
      "cell_type": "markdown",
      "source": [
        "#Finding the Greatest Common Divisor (GCD)"
      ],
      "metadata": {
        "id": "-VRsOCIwRLZ5"
      }
    },
    {
      "cell_type": "code",
      "source": [
        "def gcd(a, b):\n",
        "    while b != 0:\n",
        "        a, b = b, a % b\n",
        "        return abs(a)\n",
        "num1 = 56\n",
        "num2 = 98\n",
        "print(f\"GCD of {num1} and {num2} is: {gcd(num1, num2)}\")"
      ],
      "metadata": {
        "colab": {
          "base_uri": "https://localhost:8080/"
        },
        "id": "pMj04tkcROeM",
        "outputId": "b3beea73-3027-4731-a9eb-6bcc0f859113"
      },
      "execution_count": 17,
      "outputs": [
        {
          "output_type": "stream",
          "name": "stdout",
          "text": [
            "GCD of 56 and 98 is: 98\n"
          ]
        }
      ]
    },
    {
      "cell_type": "markdown",
      "source": [
        "#Convert Decimal to Binary"
      ],
      "metadata": {
        "id": "QfaIIgN1RYf7"
      }
    },
    {
      "cell_type": "code",
      "source": [
        "def decimal_to_binary(n):\n",
        "    if n == 0:\n",
        "        return \"0\"\n",
        "    binary = []\n",
        "    is_negative = n < 0\n",
        "    n = abs(n)\n",
        "\n",
        "    while n > 0:\n",
        "        binary.append(str(n % 2))\n",
        "        n //= 2\n",
        "\n",
        "    if is_negative:\n",
        "        return \"-\" + \"\".join(reversed(binary))\n",
        "    return \"\".join(reversed(binary))\n",
        "num = 13\n",
        "print(f\"Binary representation of {num}: {decimal_to_binary(num)}\")\n",
        "num = -13\n",
        "print(f\"Binary representation of {num}: {decimal_to_binary(num)}\")"
      ],
      "metadata": {
        "colab": {
          "base_uri": "https://localhost:8080/"
        },
        "id": "wMic2Yk4RcQ3",
        "outputId": "eec5ff7a-3af9-4251-9c80-c562af138f7e"
      },
      "execution_count": 18,
      "outputs": [
        {
          "output_type": "stream",
          "name": "stdout",
          "text": [
            "Binary representation of 13: 1101\n",
            "Binary representation of -13: -1101\n"
          ]
        }
      ]
    },
    {
      "cell_type": "markdown",
      "source": [
        "#Finding All Prime Factors of a Number"
      ],
      "metadata": {
        "id": "i4S2TZyVRnPk"
      }
    },
    {
      "cell_type": "code",
      "source": [
        "def prime_factors(n):\n",
        "    factors = []\n",
        "    divisor = 2\n",
        "    while n > 1:\n",
        "        while n % divisor == 0:\n",
        "            factors.append(divisor)\n",
        "            n //= divisor\n",
        "        divisor += 1\n",
        "        if divisor * divisor > n:\n",
        "            if n > 1:\n",
        "                factors.append(n)\n",
        "            break\n",
        "    return factors\n",
        "num = 84\n",
        "print(f\"Prime factors of {num}: {prime_factors(num)}\")"
      ],
      "metadata": {
        "colab": {
          "base_uri": "https://localhost:8080/"
        },
        "id": "DXBQipZQRrGZ",
        "outputId": "bcb7950d-5c1c-4385-9d79-58f995405191"
      },
      "execution_count": 19,
      "outputs": [
        {
          "output_type": "stream",
          "name": "stdout",
          "text": [
            "Prime factors of 84: [2, 2, 3, 7]\n"
          ]
        }
      ]
    },
    {
      "cell_type": "markdown",
      "source": [
        "#Calculate Factorial Using Recursion"
      ],
      "metadata": {
        "id": "hZftpkP3R6qf"
      }
    },
    {
      "cell_type": "code",
      "source": [
        "def factorial(n):\n",
        "    if n == 0 or n == 1:\n",
        "        return 1\n",
        "    return n * factorial(n - 1)\n",
        "num = 5\n",
        "print(f\"Factorial of {num}: {factorial(num)}\")"
      ],
      "metadata": {
        "colab": {
          "base_uri": "https://localhost:8080/"
        },
        "id": "y-8GKGA-R8J6",
        "outputId": "bce65a1f-80a0-404b-e358-9348d735273e"
      },
      "execution_count": 20,
      "outputs": [
        {
          "output_type": "stream",
          "name": "stdout",
          "text": [
            "Factorial of 5: 120\n"
          ]
        }
      ]
    },
    {
      "cell_type": "markdown",
      "source": [
        "# Implement Bubble Sort"
      ],
      "metadata": {
        "id": "B4m7mTFLSEPw"
      }
    },
    {
      "cell_type": "code",
      "source": [
        "def bubble_sort(arr):\n",
        "    n = len(arr)\n",
        "    for i in range(n):\n",
        "        for j in range(0, n - i - 1):\n",
        "            if arr[j] > arr[j + 1]:\n",
        "                arr[j], arr[j + 1] = arr[j + 1], arr[j]\n",
        "    return arr\n",
        "\n",
        "print(bubble_sort([64, 34, 25, 12, 22, 11, 90]))\n",
        "\n"
      ],
      "metadata": {
        "colab": {
          "base_uri": "https://localhost:8080/"
        },
        "id": "AXtEV48bSD1e",
        "outputId": "64e509ec-b575-4504-e049-5178a58180ae"
      },
      "execution_count": 21,
      "outputs": [
        {
          "output_type": "stream",
          "name": "stdout",
          "text": [
            "[11, 12, 22, 25, 34, 64, 90]\n"
          ]
        }
      ]
    },
    {
      "cell_type": "markdown",
      "source": [
        "#Implement Insertion Sort"
      ],
      "metadata": {
        "id": "_Y1TvPTRSKjA"
      }
    },
    {
      "cell_type": "code",
      "source": [
        "def insertion_sort(arr):\n",
        "    for i in range(1, len(arr)):\n",
        "        key = arr[i]\n",
        "        j = i - 1\n",
        "        while j >= 0 and key < arr[j]:\n",
        "            arr[j + 1] = arr[j]\n",
        "            j -= 1\n",
        "        arr[j + 1] = key\n",
        "    return arr\n",
        "\n",
        "print(insertion_sort([64, 34, 25, 12, 22, 11, 90]))\n",
        "\n"
      ],
      "metadata": {
        "colab": {
          "base_uri": "https://localhost:8080/"
        },
        "id": "D4WhMcToSRGz",
        "outputId": "834b8779-89bf-4600-c986-44fd2ab2183b"
      },
      "execution_count": 22,
      "outputs": [
        {
          "output_type": "stream",
          "name": "stdout",
          "text": [
            "[11, 12, 22, 25, 34, 64, 90]\n"
          ]
        }
      ]
    },
    {
      "cell_type": "markdown",
      "source": [
        "#Implement Merge Sort"
      ],
      "metadata": {
        "id": "WKtTkFIaSPfk"
      }
    },
    {
      "cell_type": "code",
      "source": [
        "def merge_sort(arr):\n",
        "    if len(arr) > 1:\n",
        "        mid = len(arr) // 2\n",
        "        left_half = arr[:mid]\n",
        "        right_half = arr[mid:]\n",
        "\n",
        "        merge_sort(left_half)\n",
        "        merge_sort(right_half)\n",
        "\n",
        "        i = j = k = 0\n",
        "\n",
        "        while i < len(left_half) and j < len(right_half):\n",
        "            if left_half[i] < right_half[j]:\n",
        "                arr[k] = left_half[i]\n",
        "                i += 1\n",
        "            else:\n",
        "                arr[k] = right_half[j]\n",
        "                j += 1\n",
        "            k += 1\n",
        "\n",
        "        while i < len(left_half):\n",
        "            arr[k] = left_half[i]\n",
        "            i += 1\n",
        "            k += 1\n",
        "\n",
        "        while j < len(right_half):\n",
        "            arr[k] = right_half[j]\n",
        "            j += 1\n",
        "            k += 1\n",
        "    return arr\n",
        "\n",
        "print(merge_sort([64, 34, 25, 12, 22, 11, 90]))\n",
        "\n"
      ],
      "metadata": {
        "colab": {
          "base_uri": "https://localhost:8080/"
        },
        "id": "-cW50LQ_SVuI",
        "outputId": "67e33451-d8a7-476d-f01f-2df89ab993cb"
      },
      "execution_count": 23,
      "outputs": [
        {
          "output_type": "stream",
          "name": "stdout",
          "text": [
            "[11, 12, 22, 25, 34, 64, 90]\n"
          ]
        }
      ]
    },
    {
      "cell_type": "markdown",
      "source": [
        "#Implement Selection Sort"
      ],
      "metadata": {
        "id": "_VKyiW4_SZQM"
      }
    },
    {
      "cell_type": "code",
      "source": [
        "def selection_sort(arr):\n",
        "    for i in range(len(arr)):\n",
        "        min_idx = i\n",
        "        for j in range(i + 1, len(arr)):\n",
        "            if arr[j] < arr[min_idx]:\n",
        "                min_idx = j\n",
        "        arr[i], arr[min_idx] = arr[min_idx], arr[i]\n",
        "    return arr\n",
        "\n",
        "\n",
        "print(selection_sort([64, 34, 25, 12, 22, 11, 90]))\n",
        "\n"
      ],
      "metadata": {
        "colab": {
          "base_uri": "https://localhost:8080/"
        },
        "id": "1bUm1o-wSiYJ",
        "outputId": "e30acb4e-b9d1-43df-ac2e-06e4434caae5"
      },
      "execution_count": 24,
      "outputs": [
        {
          "output_type": "stream",
          "name": "stdout",
          "text": [
            "[11, 12, 22, 25, 34, 64, 90]\n"
          ]
        }
      ]
    },
    {
      "cell_type": "markdown",
      "source": [
        "#Implement Heap Sort"
      ],
      "metadata": {
        "id": "J7rMGK-PSlxe"
      }
    },
    {
      "cell_type": "code",
      "source": [
        "def heapify(arr, n, i):\n",
        "    largest = i\n",
        "    left = 2 * i + 1\n",
        "    right = 2 * i + 2\n",
        "\n",
        "    if left < n and arr[left] > arr[largest]:\n",
        "        largest = left\n",
        "    if right < n and arr[right] > arr[largest]:\n",
        "        largest = right\n",
        "\n",
        "    if largest != i:\n",
        "        arr[i], arr[largest] = arr[largest], arr[i]\n",
        "        heapify(arr, n, largest)\n",
        "\n",
        "def heap_sort(arr):\n",
        "    n = len(arr)\n",
        "\n",
        "    for i in range(n // 2 - 1, -1, -1):\n",
        "        heapify(arr, n, i)\n",
        "\n",
        "    for i in range(n - 1, 0, -1):\n",
        "        arr[i], arr[0] = arr[0], arr[i]\n",
        "        heapify(arr, i, 0)\n",
        "\n",
        "    return arr\n",
        "\n",
        "\n",
        "print(heap_sort([64, 34, 25, 12, 22, 11, 90]))\n",
        "\n"
      ],
      "metadata": {
        "colab": {
          "base_uri": "https://localhost:8080/"
        },
        "id": "7aUpeOvTSnKK",
        "outputId": "0f754ce7-0b6b-4621-c267-23bf13574552"
      },
      "execution_count": 25,
      "outputs": [
        {
          "output_type": "stream",
          "name": "stdout",
          "text": [
            "[11, 12, 22, 25, 34, 64, 90]\n"
          ]
        }
      ]
    },
    {
      "cell_type": "markdown",
      "source": [
        "#Find the kth Smallest Element in an Array"
      ],
      "metadata": {
        "id": "g0w44oE6Sp4K"
      }
    },
    {
      "cell_type": "code",
      "source": [
        "import random\n",
        "\n",
        "def partition(nums, low, high):\n",
        "    pivot = nums[high]\n",
        "    i = low\n",
        "    for j in range(low, high):\n",
        "        if nums[j] <= pivot:\n",
        "            nums[i], nums[j] = nums[j], nums[i]\n",
        "            i += 1\n",
        "    nums[i], nums[high] = nums[high], nums[i]\n",
        "    return i\n",
        "\n",
        "def quickselect(nums, low, high, k):\n",
        "    if low <= high:\n",
        "        pivot_index = random.randint(low, high)\n",
        "        nums[pivot_index], nums[high] = nums[high], nums[pivot_index]\n",
        "        pi = partition(nums, low, high)\n",
        "\n",
        "        if pi == k:\n",
        "            return nums[pi]\n",
        "        elif pi < k:\n",
        "            return quickselect(nums, pi + 1, high, k)\n",
        "        else:\n",
        "            return quickselect(nums, low, pi - 1, k)\n",
        "\n",
        "def kthSmallest(nums, k):\n",
        "    return quickselect(nums, 0, len(nums) - 1, k - 1)\n",
        "nums = [3, 2, 1, 5, 6, 4]\n",
        "k = 2\n",
        "print(kthSmallest(nums, k))"
      ],
      "metadata": {
        "colab": {
          "base_uri": "https://localhost:8080/"
        },
        "id": "YUwvVZjlS27F",
        "outputId": "f297cad0-ac5c-4530-bc6b-69cc4e601563"
      },
      "execution_count": 29,
      "outputs": [
        {
          "output_type": "stream",
          "name": "stdout",
          "text": [
            "2\n"
          ]
        }
      ]
    },
    {
      "cell_type": "markdown",
      "source": [
        "#Trie Implementation in Python"
      ],
      "metadata": {
        "id": "Kefs0JV7ThlM"
      }
    },
    {
      "cell_type": "code",
      "source": [
        "class TrieNode:\n",
        "    def __init__(self):\n",
        "        self.children = {}\n",
        "        self.is_end_of_word = False\n",
        "\n",
        "class Trie:\n",
        "    def __init__(self):\n",
        "        self.root = TrieNode()\n",
        "    def insert(self, word: str) -> None:\n",
        "        node = self.root\n",
        "        for char in word:\n",
        "            if char not in node.children:\n",
        "                node.children[char] = TrieNode()\n",
        "            node = node.children[char]\n",
        "        node.is_end_of_word = True\n",
        "    def search(self, word: str) -> bool:\n",
        "        node = self.root\n",
        "        for char in word:\n",
        "\n",
        "            if char not in node.children:\n",
        "                return False\n",
        "\n",
        "            node = node.children[char]\n",
        "        return node.is_end_of_word\n",
        "    def starts_with(self, prefix: str) -> bool:\n",
        "        node = self.root\n",
        "        for char in prefix:\n",
        "            if char not in node.children:\n",
        "                return False\n",
        "            node = node.children[char]\n",
        "        return True\n",
        "trie = Trie()\n",
        "trie.insert(\"apple\")\n",
        "trie.insert(\"app\")\n",
        "trie.insert(\"bat\")\n",
        "print(trie.search(\"apple\"))\n",
        "print(trie.search(\"app\"))\n",
        "print(trie.search(\"bat\"))\n",
        "print(trie.search(\"batman\"))\n",
        "\n",
        "\n",
        "print(trie.starts_with(\"app\"))\n",
        "print(trie.starts_with(\"ba\"))\n",
        "print(trie.starts_with(\"bats\"))\n"
      ],
      "metadata": {
        "colab": {
          "base_uri": "https://localhost:8080/"
        },
        "id": "wqKsMoW6TjDB",
        "outputId": "20baddd7-246e-4d4e-c135-3cc24cfd3aee"
      },
      "execution_count": 31,
      "outputs": [
        {
          "output_type": "stream",
          "name": "stdout",
          "text": [
            "True\n",
            "True\n",
            "True\n",
            "False\n",
            "True\n",
            "True\n",
            "False\n"
          ]
        }
      ]
    },
    {
      "cell_type": "markdown",
      "source": [
        "#Check if a Word Exists in a Trie"
      ],
      "metadata": {
        "id": "0Ux4W8jyTvuT"
      }
    },
    {
      "cell_type": "code",
      "source": [
        "class TrieNode:\n",
        "    def __init__(self):\n",
        "        self.children = {}\n",
        "        self.is_end_of_word = False\n",
        "\n",
        "class Trie:\n",
        "    def __init__(self):\n",
        "        self.root = TrieNode()\n",
        "\n",
        "    def insert(self, word: str) -> None:\n",
        "        node = self.root\n",
        "        for char in word:\n",
        "            if char not in node.children:\n",
        "                node.children[char] = TrieNode()\n",
        "            node = node.children[char]\n",
        "        node.is_end_of_word = True\n",
        "\n",
        "    def search(self, word: str) -> bool:\n",
        "        node = self.root\n",
        "        for char in word:\n",
        "            if char not in node.children:\n",
        "                return False\n",
        "            node = node.children[char]\n",
        "        return node.is_end_of_word\n",
        "trie = Trie()\n",
        "\n",
        "trie.insert(\"hello\")\n",
        "trie.insert(\"world\")\n",
        "trie.insert(\"trie\")\n",
        "trie.insert(\"algorithm\")\n",
        "print(trie.search(\"hello\"))\n",
        "print(trie.search(\"world\"))\n",
        "print(trie.search(\"algo\"))\n",
        "print(trie.search(\"trie\"))\n",
        "print(trie.search(\"tree\"))"
      ],
      "metadata": {
        "colab": {
          "base_uri": "https://localhost:8080/"
        },
        "id": "wDR1rWtHTxN6",
        "outputId": "e7ab7324-0d7e-429c-fab7-75f509ac5ffa"
      },
      "execution_count": 1,
      "outputs": [
        {
          "output_type": "stream",
          "name": "stdout",
          "text": [
            "True\n",
            "True\n",
            "False\n",
            "True\n",
            "False\n"
          ]
        }
      ]
    },
    {
      "cell_type": "markdown",
      "source": [
        "#Auto-complete Suggestions Using a Trie"
      ],
      "metadata": {
        "id": "GUZOoXaGUAi8"
      }
    },
    {
      "cell_type": "code",
      "source": [
        "class TrieNode:\n",
        "    def __init__(self):\n",
        "        self.children = {}\n",
        "        self.is_end_of_word = False\n",
        "class Trie:\n",
        "    def __init__(self):\n",
        "        self.root = TrieNode()\n",
        "    def insert(self, word: str) -> None:\n",
        "        node = self.root\n",
        "        for char in word:\n",
        "            if char not in node.children:\n",
        "                node.children[char] = TrieNode()\n",
        "            node = node.children[char]\n",
        "        node.is_end_of_word = True\n",
        "    def search(self, word: str) -> bool:\n",
        "        node = self.root\n",
        "        for char in word:\n",
        "            if char not in node.children:\n",
        "                return False\n",
        "            node = node.children[char]\n",
        "        return node.is_end_of_word\n",
        "    def _find_words(self, node, prefix):\n",
        "        suggestions = []\n",
        "        if node.is_end_of_word:\n",
        "            suggestions.append(prefix)\n",
        "        for char, child_node in node.children.items():\n",
        "            suggestions.extend(self._find_words(child_node, prefix + char))\n",
        "        return suggestions\n",
        "    def autocomplete(self, prefix: str):\n",
        "        node = self.root\n",
        "        for char in prefix:\n",
        "            if char not in node.children:\n",
        "                return []\n",
        "            node = node.children[char]\n",
        "        return self._find_words(node, prefix)\n",
        "trie = Trie()\n",
        "trie.insert(\"apple\")\n",
        "trie.insert(\"app\")\n",
        "trie.insert(\"application\")\n",
        "trie.insert(\"bat\")\n",
        "trie.insert(\"ball\")\n",
        "trie.insert(\"batman\")\n",
        "print(trie.autocomplete(\"app\"))\n",
        "print(trie.autocomplete(\"bat\"))\n",
        "print(trie.autocomplete(\"ba\"))\n",
        "print(trie.autocomplete(\"cat\"))\n"
      ],
      "metadata": {
        "colab": {
          "base_uri": "https://localhost:8080/"
        },
        "id": "4aD-MZrRUGhf",
        "outputId": "7240dfdd-d3a9-4de7-ca3e-818f8b0f9147"
      },
      "execution_count": 2,
      "outputs": [
        {
          "output_type": "stream",
          "name": "stdout",
          "text": [
            "['app', 'apple', 'application']\n",
            "['bat', 'batman']\n",
            "['bat', 'batman', 'ball']\n",
            "[]\n"
          ]
        }
      ]
    },
    {
      "cell_type": "markdown",
      "source": [
        "#Find the Longest Palindrome Substring"
      ],
      "metadata": {
        "id": "Dh8oTlNrUoQW"
      }
    },
    {
      "cell_type": "code",
      "source": [
        "def longest_palindrome(s: str) -> str:\n",
        "    def expand_around_center(left: int, right: int) -> str:\n",
        "        while left >= 0 and right < len(s) and s[left] == s[right]:\n",
        "            left -= 1\n",
        "            right += 1\n",
        "        return s[left + 1:right]\n",
        "    if not s or len(s) < 1:\n",
        "        return \"\"\n",
        "    longest = \"\"\n",
        "    for i in range(len(s)):\n",
        "        odd_palindrome = expand_around_center(i, i)\n",
        "        even_palindrome = expand_around_center(i, i + 1)\n",
        "        if len(odd_palindrome) > len(longest):\n",
        "            longest = odd_palindrome\n",
        "        if len(even_palindrome) > len(longest):\n",
        "            longest = even_palindrome\n",
        "\n",
        "    return longest\n",
        "s = \"babad\"\n",
        "print(longest_palindrome(s))\n",
        "\n",
        "s = \"cbbd\"\n",
        "print(longest_palindrome(s))\n",
        "\n",
        "s = \"a\"\n",
        "print(longest_palindrome(s))\n",
        "\n",
        "s = \"ac\"\n",
        "print(longest_palindrome(s))\n"
      ],
      "metadata": {
        "colab": {
          "base_uri": "https://localhost:8080/"
        },
        "id": "_x-OPdW9Up7V",
        "outputId": "72e5769a-8eef-4cd1-a6b0-08e2e89ca40e"
      },
      "execution_count": 3,
      "outputs": [
        {
          "output_type": "stream",
          "name": "stdout",
          "text": [
            "bab\n",
            "bb\n",
            "a\n",
            "a\n"
          ]
        }
      ]
    },
    {
      "cell_type": "markdown",
      "source": [
        "#MinStack Implementation"
      ],
      "metadata": {
        "id": "CivIBQp4Uvz9"
      }
    },
    {
      "cell_type": "code",
      "source": [
        "class MinStack:\n",
        "    def __init__(self):\n",
        "        self.stack = []\n",
        "        self.min_stack = []\n",
        "    def push(self, val: int) -> None:\n",
        "        self.stack.append(val)\n",
        "        if not self.min_stack or val <= self.min_stack[-1]:\n",
        "            self.min_stack.append(val)\n",
        "    def pop(self) -> None:\n",
        "        if self.stack:\n",
        "            val = self.stack.pop()\n",
        "            if val == self.min_stack[-1]:\n",
        "                self.min_stack.pop()\n",
        "    def top(self) -> int:\n",
        "        if self.stack:\n",
        "            return self.stack[-1]\n",
        "        return None\n",
        "    def getMin(self) -> int:\n",
        "        if self.min_stack:\n",
        "            return self.min_stack[-1]\n",
        "        return None\n",
        "min_stack = MinStack()\n",
        "\n",
        "min_stack.push(5)\n",
        "min_stack.push(3)\n",
        "min_stack.push(7)\n",
        "min_stack.push(3)\n",
        "\n",
        "\n",
        "print(min_stack.getMin())\n",
        "\n",
        "min_stack.pop()\n",
        "print(min_stack.getMin())\n",
        "min_stack.pop()\n",
        "print(min_stack.getMin())\n",
        "min_stack.pop()\n",
        "print(min_stack.getMin())"
      ],
      "metadata": {
        "colab": {
          "base_uri": "https://localhost:8080/"
        },
        "id": "unh5rKyTUxLI",
        "outputId": "be673176-079d-452e-8de7-af9a50ef7f50"
      },
      "execution_count": 4,
      "outputs": [
        {
          "output_type": "stream",
          "name": "stdout",
          "text": [
            "3\n",
            "3\n",
            "3\n",
            "5\n"
          ]
        }
      ]
    },
    {
      "cell_type": "markdown",
      "source": [
        "#Max Heap Implementation"
      ],
      "metadata": {
        "id": "NvmV61GWU200"
      }
    },
    {
      "cell_type": "code",
      "source": [
        "class MaxHeap:\n",
        "    def __init__(self):\n",
        "        self.heap = []\n",
        "    def _parent(self, index):\n",
        "\n",
        "        return (index - 1) // 2\n",
        "    def _left_child(self, index):\n",
        "        return 2 * index + 1\n",
        "    def _right_child(self, index):\n",
        "        return 2 * index + 2\n",
        "    def _heapify_up(self, index):\n",
        "        while index > 0 and self.heap[index] > self.heap[self._parent(index)]:\n",
        "            self.heap[index], self.heap[self._parent(index)] = self.heap[self._parent(index)], self.heap[index]\n",
        "            index = self._parent(index)\n",
        "    def _heapify_down(self, index):\n",
        "        largest = index\n",
        "        left = self._left_child(index)\n",
        "        right = self._right_child(index)\n",
        "        if left < len(self.heap) and self.heap[left] > self.heap[largest]:\n",
        "            largest = left\n",
        "        if right < len(self.heap) and self.heap[right] > self.heap[largest]:\n",
        "            largest = right\n",
        "        if largest != index:\n",
        "            self.heap[index], self.heap[largest] = self.heap[largest], self.heap[index]\n",
        "            self._heapify_down(largest)\n",
        "    def insert(self, value):\n",
        "        self.heap.append(value)\n",
        "        self._heapify_up(len(self.heap) - 1)\n",
        "    def extract_max(self):\n",
        "        if not self.heap:\n",
        "            raise IndexError(\"Heap is empty\")\n",
        "        if len(self.heap) == 1:\n",
        "            return self.heap.pop()\n",
        "        root = self.heap[0]\n",
        "        self.heap[0] = self.heap.pop()\n",
        "        self._heapify_down(0)\n",
        "        return root\n",
        "    def get_max(self):\n",
        "        if not self.heap:\n",
        "            raise IndexError(\"Heap is empty\")\n",
        "        return self.heap[0]\n",
        "    def size(self):\n",
        "        return len(self.heap)\n",
        "    def is_empty(self):\n",
        "        return len(self.heap) == 0\n",
        "max_heap = MaxHeap()\n",
        "max_heap.insert(10)\n",
        "max_heap.insert(20)\n",
        "max_heap.insert(15)\n",
        "max_heap.insert(30)\n",
        "max_heap.insert(40)\n",
        "\n",
        "print(\"Max element:\", max_heap.get_max())  #\n",
        "\n",
        "print(\"Extracted max:\", max_heap.extract_max())\n",
        "print(\"Max element after extraction:\", max_heap.get_max())\n",
        "print(\"Heap size:\", max_heap.size())\n",
        "print(\"Is heap empty?\", max_heap.is_empty())"
      ],
      "metadata": {
        "colab": {
          "base_uri": "https://localhost:8080/"
        },
        "id": "2z5ElsDHU5hf",
        "outputId": "083399d4-488d-40e4-c1f8-68e5676a0c7b"
      },
      "execution_count": 5,
      "outputs": [
        {
          "output_type": "stream",
          "name": "stdout",
          "text": [
            "Max element: 40\n",
            "Extracted max: 40\n",
            "Max element after extraction: 30\n",
            "Heap size: 4\n",
            "Is heap empty? False\n"
          ]
        }
      ]
    },
    {
      "cell_type": "markdown",
      "source": [
        "#Solve the Meeting Rooms Problem"
      ],
      "metadata": {
        "id": "s4o833tIVBrw"
      }
    },
    {
      "cell_type": "code",
      "source": [
        "import heapq\n",
        "def min_meeting_rooms(intervals):\n",
        "    if not intervals:\n",
        "        return 0\n",
        "    intervals.sort(key=lambda x: x[0])\n",
        "    min_heap = []\n",
        "    heapq.heappush(min_heap, intervals[0][1])\n",
        "    for i in range(1, len(intervals)):\n",
        "        if intervals[i][0] >= min_heap[0]:\n",
        "            heapq.heappop(min_heap)\n",
        "        heapq.heappush(min_heap, intervals[i][1])\n",
        "    return len(min_heap)\n",
        "def can_attend_all_meetings(intervals):\n",
        "    intervals.sort(key=lambda x: x[0])\n",
        "    for i in range(1, len(intervals)):\n",
        "        if intervals[i][0] < intervals[i - 1][1]:\n",
        "            return False\n",
        "    return True\n",
        "meetings = [[0, 30], [5, 10], [15, 20]]\n",
        "print(can_attend_all_meetings(meetings))\n",
        "meetings = [[7, 10], [2, 4]]\n",
        "print(can_attend_all_meetings(meetings))\n",
        "meetings = [[0, 30], [5, 10], [15, 20]]\n",
        "print(min_meeting_rooms(meetings))\n",
        "meetings = [[7, 10], [2, 4]]\n",
        "print(min_meeting_rooms(meetings))"
      ],
      "metadata": {
        "colab": {
          "base_uri": "https://localhost:8080/"
        },
        "id": "kqAnfHR-VHul",
        "outputId": "589a0bf2-ce7f-4030-c20c-2096edcedc37"
      },
      "execution_count": 6,
      "outputs": [
        {
          "output_type": "stream",
          "name": "stdout",
          "text": [
            "False\n",
            "True\n",
            "2\n",
            "1\n"
          ]
        }
      ]
    }
  ]
}